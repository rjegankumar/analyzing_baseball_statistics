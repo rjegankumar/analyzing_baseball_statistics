{
 "cells": [
  {
   "cell_type": "markdown",
   "metadata": {},
   "source": [
    "# Analyzing Baseball Statistics"
   ]
  },
  {
   "cell_type": "markdown",
   "metadata": {},
   "source": [
    "Objective of this analysis is to explore some of the baseball statistics datasets from [Lahman's Baseball Database](http://www.seanlahman.com/baseball-archive/statistics/), and answer some interesting questions."
   ]
  },
  {
   "cell_type": "markdown",
   "metadata": {},
   "source": [
    "Specifically, we will be analyzing the 2014 datasets, that can be found [here]( http://seanlahman.com/files/database/lahman-csv_2015-01-24.zip)."
   ]
  },
  {
   "cell_type": "markdown",
   "metadata": {},
   "source": [
    "These are some questions I have come up with:\n",
    "\n",
    "* What is the age distribution of MLB players who played during the 2014 season? Does the age distribution change based on the position they played?\n",
    "\n",
    "\n",
    "* Do right hand pitchers perform better than left hand pitchers - higher strikeouts per 9 innings, lower walks and hits per 9 innings, higher win-loss ratio?\n",
    "\n",
    "\n",
    "* How many total homeruns were made every season? Who were the top five players with the most number of homeruns in any given season?\n",
    "\n",
    "\n",
    "* List the top ten currently active franchises with the highest average win percentage per season, or the most number of world series wins? Is there a correlation between a franchises' average win percentage and the number of world series they've won?\n",
    "\n",
    "\n",
    "* What is the correlation between the batting average, on base percentage (OBP), runs batted in (RBI) and homeruns of a batter to his salary? Which of these is more positively correlated?"
   ]
  },
  {
   "cell_type": "markdown",
   "metadata": {},
   "source": [
    "## Setting up the environment and loading the datasets"
   ]
  },
  {
   "cell_type": "code",
   "execution_count": 12,
   "metadata": {
    "collapsed": true
   },
   "outputs": [],
   "source": [
    "# Importing libraries\n",
    "import pandas as pd\n",
    "import numpy as np\n",
    "import matplotlib.pyplot as plt\n",
    "import seaborn as sns\n",
    "from IPython.display import display"
   ]
  },
  {
   "cell_type": "code",
   "execution_count": 13,
   "metadata": {
    "collapsed": false
   },
   "outputs": [
    {
     "name": "stdout",
     "output_type": "stream",
     "text": [
      "(Rows, Columns) : (18589, 24)\n",
      "\n",
      "First five rows:\n",
      "\n",
      "    playerID  birthYear  birthMonth  birthDay birthCountry birthState  \\\n",
      "0  aardsda01     1981.0        12.0      27.0          USA         CO   \n",
      "1  aaronha01     1934.0         2.0       5.0          USA         AL   \n",
      "2  aaronto01     1939.0         8.0       5.0          USA         AL   \n",
      "3   aasedo01     1954.0         9.0       8.0          USA         CA   \n",
      "4   abadan01     1972.0         8.0      25.0          USA         FL   \n",
      "\n",
      "    birthCity  deathYear  deathMonth  deathDay    ...     nameLast  \\\n",
      "0      Denver        NaN         NaN       NaN    ...      Aardsma   \n",
      "1      Mobile        NaN         NaN       NaN    ...        Aaron   \n",
      "2      Mobile     1984.0         8.0      16.0    ...        Aaron   \n",
      "3      Orange        NaN         NaN       NaN    ...         Aase   \n",
      "4  Palm Beach        NaN         NaN       NaN    ...         Abad   \n",
      "\n",
      "        nameGiven weight height bats throws      debut  finalGame   retroID  \\\n",
      "0     David Allan  205.0   75.0    R      R   4/6/2004  9/28/2013  aardd001   \n",
      "1     Henry Louis  180.0   72.0    R      R  4/13/1954  10/3/1976  aaroh101   \n",
      "2      Tommie Lee  190.0   75.0    R      R  4/10/1962  9/26/1971  aarot101   \n",
      "3  Donald William  190.0   75.0    R      R  7/26/1977  10/3/1990  aased001   \n",
      "4   Fausto Andres  184.0   73.0    L      L  9/10/2001  4/13/2006  abada001   \n",
      "\n",
      "     bbrefID  \n",
      "0  aardsda01  \n",
      "1  aaronha01  \n",
      "2  aaronto01  \n",
      "3   aasedo01  \n",
      "4   abadan01  \n",
      "\n",
      "[5 rows x 24 columns]\n",
      "\n",
      "Column names and their data types:\n",
      "\n",
      "playerID         object\n",
      "birthYear       float64\n",
      "birthMonth      float64\n",
      "birthDay        float64\n",
      "birthCountry     object\n",
      "birthState       object\n",
      "birthCity        object\n",
      "deathYear       float64\n",
      "deathMonth      float64\n",
      "deathDay        float64\n",
      "deathCountry     object\n",
      "deathState       object\n",
      "deathCity        object\n",
      "nameFirst        object\n",
      "nameLast         object\n",
      "nameGiven        object\n",
      "weight          float64\n",
      "height          float64\n",
      "bats             object\n",
      "throws           object\n",
      "debut            object\n",
      "finalGame        object\n",
      "retroID          object\n",
      "bbrefID          object\n",
      "dtype: object\n"
     ]
    }
   ],
   "source": [
    "# Loading 'Master.csv' file into a master_df dataframe and exploring it\n",
    "def load_df(csv):\n",
    "    return pd.read_csv(csv)\n",
    "\n",
    "def explore_df(df):\n",
    "    print('(Rows, Columns) : {}'.format(df.shape))\n",
    "    print('\\nFirst five rows:\\n')\n",
    "    print(df.head())\n",
    "    print('\\nColumn names and their data types:\\n')\n",
    "    print(df.dtypes)\n",
    "    return\n",
    "\n",
    "master_df = load_df('Datasets/Master.csv')\n",
    "explore_df(master_df)"
   ]
  },
  {
   "cell_type": "code",
   "execution_count": 14,
   "metadata": {
    "collapsed": false,
    "scrolled": false
   },
   "outputs": [
    {
     "name": "stdout",
     "output_type": "stream",
     "text": [
      "(Rows, Columns) : (99466, 21)\n",
      "\n",
      "First five rows:\n",
      "\n",
      "   yearID teamID lgID   playerID  G_all  GS  G_batting  G_defense  G_p  G_c  \\\n",
      "0    1871    BS1  NaN  barnero01   31.0 NaN         31       31.0    0    0   \n",
      "1    1871    BS1  NaN  barrofr01   18.0 NaN         18       18.0    0    0   \n",
      "2    1871    BS1  NaN  birdsda01   29.0 NaN         29       29.0    0    7   \n",
      "3    1871    BS1  NaN   conefr01   19.0 NaN         19       19.0    0    0   \n",
      "4    1871    BS1  NaN  gouldch01   31.0 NaN         31       31.0    0    0   \n",
      "\n",
      "   ...   G_2b  G_3b  G_ss  G_lf  G_cf  G_rf  G_of  G_dh  G_ph  G_pr  \n",
      "0  ...     16     0    15     0     0     0     0   NaN   NaN   NaN  \n",
      "1  ...      1     0     0    13     0     4    17   NaN   NaN   NaN  \n",
      "2  ...      0     0     0     0     0    27    27   NaN   NaN   NaN  \n",
      "3  ...      0     0     0    18     0     1    18   NaN   NaN   NaN  \n",
      "4  ...      0     0     0     0     0     1     1   NaN   NaN   NaN  \n",
      "\n",
      "[5 rows x 21 columns]\n",
      "\n",
      "Column names and their data types:\n",
      "\n",
      "yearID         int64\n",
      "teamID        object\n",
      "lgID          object\n",
      "playerID      object\n",
      "G_all        float64\n",
      "GS           float64\n",
      "G_batting      int64\n",
      "G_defense    float64\n",
      "G_p            int64\n",
      "G_c            int64\n",
      "G_1b           int64\n",
      "G_2b           int64\n",
      "G_3b           int64\n",
      "G_ss           int64\n",
      "G_lf           int64\n",
      "G_cf           int64\n",
      "G_rf           int64\n",
      "G_of           int64\n",
      "G_dh         float64\n",
      "G_ph         float64\n",
      "G_pr         float64\n",
      "dtype: object\n"
     ]
    }
   ],
   "source": [
    "# Loading 'Appearances.csv' file into a appearances_df dataframe and exploring it\n",
    "appearances_df = load_df('Datasets/Appearances.csv')\n",
    "explore_df(appearances_df)"
   ]
  },
  {
   "cell_type": "code",
   "execution_count": 15,
   "metadata": {
    "collapsed": false
   },
   "outputs": [
    {
     "name": "stdout",
     "output_type": "stream",
     "text": [
      "(Rows, Columns) : (43330, 30)\n",
      "\n",
      "First five rows:\n",
      "\n",
      "    playerID  yearID  stint teamID lgID   W   L   G  GS  CG  ...   IBB  WP  \\\n",
      "0  bechtge01    1871      1    PH1  NaN   1   2   3   3   2  ...   NaN NaN   \n",
      "1  brainas01    1871      1    WS3  NaN  12  15  30  30  30  ...   NaN NaN   \n",
      "2  fergubo01    1871      1    NY2  NaN   0   0   1   0   0  ...   NaN NaN   \n",
      "3  fishech01    1871      1    RC1  NaN   4  16  24  24  22  ...   NaN NaN   \n",
      "4  fleetfr01    1871      1    NY2  NaN   0   1   1   1   1  ...   NaN NaN   \n",
      "\n",
      "   HBP  BK  BFP  GF    R  SH  SF  GIDP  \n",
      "0  NaN   0  NaN NaN   42 NaN NaN   NaN  \n",
      "1  NaN   0  NaN NaN  292 NaN NaN   NaN  \n",
      "2  NaN   0  NaN NaN    9 NaN NaN   NaN  \n",
      "3  NaN   0  NaN NaN  257 NaN NaN   NaN  \n",
      "4  NaN   0  NaN NaN   21 NaN NaN   NaN  \n",
      "\n",
      "[5 rows x 30 columns]\n",
      "\n",
      "Column names and their data types:\n",
      "\n",
      "playerID     object\n",
      "yearID        int64\n",
      "stint         int64\n",
      "teamID       object\n",
      "lgID         object\n",
      "W             int64\n",
      "L             int64\n",
      "G             int64\n",
      "GS            int64\n",
      "CG            int64\n",
      "SHO           int64\n",
      "SV            int64\n",
      "IPouts      float64\n",
      "H             int64\n",
      "ER            int64\n",
      "HR            int64\n",
      "BB            int64\n",
      "SO            int64\n",
      "BAOpp       float64\n",
      "ERA         float64\n",
      "IBB         float64\n",
      "WP          float64\n",
      "HBP         float64\n",
      "BK            int64\n",
      "BFP         float64\n",
      "GF          float64\n",
      "R             int64\n",
      "SH          float64\n",
      "SF          float64\n",
      "GIDP        float64\n",
      "dtype: object\n"
     ]
    }
   ],
   "source": [
    "# Loading 'Pitching.csv' file into a pitching_df dataframe and exploring it\n",
    "pitching_df = load_df('Datasets/Pitching.csv')\n",
    "explore_df(pitching_df)"
   ]
  },
  {
   "cell_type": "code",
   "execution_count": 16,
   "metadata": {
    "collapsed": false
   },
   "outputs": [
    {
     "name": "stdout",
     "output_type": "stream",
     "text": [
      "(Rows, Columns) : (99846, 22)\n",
      "\n",
      "First five rows:\n",
      "\n",
      "    playerID  yearID  stint teamID lgID   G     AB     R     H    2B  ...   \\\n",
      "0  abercda01    1871      1    TRO  NaN   1    4.0   0.0   0.0   0.0  ...    \n",
      "1   addybo01    1871      1    RC1  NaN  25  118.0  30.0  32.0   6.0  ...    \n",
      "2  allisar01    1871      1    CL1  NaN  29  137.0  28.0  40.0   4.0  ...    \n",
      "3  allisdo01    1871      1    WS3  NaN  27  133.0  28.0  44.0  10.0  ...    \n",
      "4  ansonca01    1871      1    RC1  NaN  25  120.0  29.0  39.0  11.0  ...    \n",
      "\n",
      "    RBI   SB   CS   BB   SO  IBB  HBP  SH  SF  GIDP  \n",
      "0   0.0  0.0  0.0  0.0  0.0  NaN  NaN NaN NaN   NaN  \n",
      "1  13.0  8.0  1.0  4.0  0.0  NaN  NaN NaN NaN   NaN  \n",
      "2  19.0  3.0  1.0  2.0  5.0  NaN  NaN NaN NaN   NaN  \n",
      "3  27.0  1.0  1.0  0.0  2.0  NaN  NaN NaN NaN   NaN  \n",
      "4  16.0  6.0  2.0  2.0  1.0  NaN  NaN NaN NaN   NaN  \n",
      "\n",
      "[5 rows x 22 columns]\n",
      "\n",
      "Column names and their data types:\n",
      "\n",
      "playerID     object\n",
      "yearID        int64\n",
      "stint         int64\n",
      "teamID       object\n",
      "lgID         object\n",
      "G             int64\n",
      "AB          float64\n",
      "R           float64\n",
      "H           float64\n",
      "2B          float64\n",
      "3B          float64\n",
      "HR          float64\n",
      "RBI         float64\n",
      "SB          float64\n",
      "CS          float64\n",
      "BB          float64\n",
      "SO          float64\n",
      "IBB         float64\n",
      "HBP         float64\n",
      "SH          float64\n",
      "SF          float64\n",
      "GIDP        float64\n",
      "dtype: object\n"
     ]
    }
   ],
   "source": [
    "# Loading 'Batting.csv' file into a batting_df dataframe and exploring it\n",
    "batting_df = load_df('Datasets/Batting.csv')\n",
    "explore_df(batting_df)"
   ]
  },
  {
   "cell_type": "code",
   "execution_count": 17,
   "metadata": {
    "collapsed": false
   },
   "outputs": [
    {
     "name": "stdout",
     "output_type": "stream",
     "text": [
      "(Rows, Columns) : (2775, 48)\n",
      "\n",
      "First five rows:\n",
      "\n",
      "   yearID lgID teamID franchID divID  Rank   G  Ghome   W   L     ...       \\\n",
      "0    1871  NaN    BS1      BNA   NaN     3  31    NaN  20  10     ...        \n",
      "1    1871  NaN    CH1      CNA   NaN     2  28    NaN  19   9     ...        \n",
      "2    1871  NaN    CL1      CFC   NaN     8  29    NaN  10  19     ...        \n",
      "3    1871  NaN    FW1      KEK   NaN     7  19    NaN   7  12     ...        \n",
      "4    1871  NaN    NY2      NNA   NaN     5  33    NaN  16  17     ...        \n",
      "\n",
      "   DP    FP                     name                          park  \\\n",
      "0 NaN  0.83     Boston Red Stockings           South End Grounds I   \n",
      "1 NaN  0.82  Chicago White Stockings       Union Base-Ball Grounds   \n",
      "2 NaN  0.81   Cleveland Forest Citys  National Association Grounds   \n",
      "3 NaN  0.80     Fort Wayne Kekiongas                Hamilton Field   \n",
      "4 NaN  0.83         New York Mutuals      Union Grounds (Brooklyn)   \n",
      "\n",
      "   attendance  BPF  PPF  teamIDBR  teamIDlahman45  teamIDretro  \n",
      "0         NaN  103   98       BOS             BS1          BS1  \n",
      "1         NaN  104  102       CHI             CH1          CH1  \n",
      "2         NaN   96  100       CLE             CL1          CL1  \n",
      "3         NaN  101  107       KEK             FW1          FW1  \n",
      "4         NaN   90   88       NYU             NY2          NY2  \n",
      "\n",
      "[5 rows x 48 columns]\n",
      "\n",
      "Column names and their data types:\n",
      "\n",
      "yearID              int64\n",
      "lgID               object\n",
      "teamID             object\n",
      "franchID           object\n",
      "divID              object\n",
      "Rank                int64\n",
      "G                   int64\n",
      "Ghome             float64\n",
      "W                   int64\n",
      "L                   int64\n",
      "DivWin             object\n",
      "WCWin              object\n",
      "LgWin              object\n",
      "WSWin              object\n",
      "R                   int64\n",
      "AB                  int64\n",
      "H                   int64\n",
      "2B                  int64\n",
      "3B                  int64\n",
      "HR                  int64\n",
      "BB                  int64\n",
      "SO                float64\n",
      "SB                float64\n",
      "CS                float64\n",
      "HBP               float64\n",
      "SF                float64\n",
      "RA                  int64\n",
      "ER                  int64\n",
      "ERA               float64\n",
      "CG                  int64\n",
      "SHO                 int64\n",
      "SV                  int64\n",
      "IPouts              int64\n",
      "HA                  int64\n",
      "HRA                 int64\n",
      "BBA                 int64\n",
      "SOA                 int64\n",
      "E                   int64\n",
      "DP                float64\n",
      "FP                float64\n",
      "name               object\n",
      "park               object\n",
      "attendance        float64\n",
      "BPF                 int64\n",
      "PPF                 int64\n",
      "teamIDBR           object\n",
      "teamIDlahman45     object\n",
      "teamIDretro        object\n",
      "dtype: object\n"
     ]
    }
   ],
   "source": [
    "# Loading 'Teams.csv' file into a teams_df dataframe and exploring it\n",
    "teams_df = load_df('Datasets/Teams.csv')\n",
    "explore_df(teams_df)"
   ]
  },
  {
   "cell_type": "code",
   "execution_count": 18,
   "metadata": {
    "collapsed": false
   },
   "outputs": [
    {
     "name": "stdout",
     "output_type": "stream",
     "text": [
      "(Rows, Columns) : (120, 4)\n",
      "\n",
      "First five rows:\n",
      "\n",
      "  franchID                     franchName active NAassoc\n",
      "0      ALT          Altoona Mountain City      N     NaN\n",
      "1      ANA  Los Angeles Angels of Anaheim      Y     NaN\n",
      "2      ARI           Arizona Diamondbacks      Y     NaN\n",
      "3      ATH         Philadelphia Athletics      N     PNA\n",
      "4      ATL                 Atlanta Braves      Y     BNA\n",
      "\n",
      "Column names and their data types:\n",
      "\n",
      "franchID      object\n",
      "franchName    object\n",
      "active        object\n",
      "NAassoc       object\n",
      "dtype: object\n"
     ]
    }
   ],
   "source": [
    "# Loading 'Teams.csv' file into a teams_df dataframe and exploring it\n",
    "franchises_df = load_df('Datasets/TeamsFranchises.csv')\n",
    "explore_df(franchises_df)"
   ]
  },
  {
   "cell_type": "code",
   "execution_count": 19,
   "metadata": {
    "collapsed": false
   },
   "outputs": [
    {
     "name": "stdout",
     "output_type": "stream",
     "text": [
      "(Rows, Columns) : (24758, 5)\n",
      "\n",
      "First five rows:\n",
      "\n",
      "   yearID teamID lgID   playerID  salary\n",
      "0    1985    ATL   NL  barkele01  870000\n",
      "1    1985    ATL   NL  bedrost01  550000\n",
      "2    1985    ATL   NL  benedbr01  545000\n",
      "3    1985    ATL   NL   campri01  633333\n",
      "4    1985    ATL   NL  ceronri01  625000\n",
      "\n",
      "Column names and their data types:\n",
      "\n",
      "yearID       int64\n",
      "teamID      object\n",
      "lgID        object\n",
      "playerID    object\n",
      "salary       int64\n",
      "dtype: object\n"
     ]
    }
   ],
   "source": [
    "# Loading 'Salaries.csv' file into a salaries_df dataframe and exploring it\n",
    "salaries_df = load_df('Datasets/Salaries.csv')\n",
    "explore_df(salaries_df)"
   ]
  },
  {
   "cell_type": "markdown",
   "metadata": {},
   "source": [
    "## Cleaning up the data for analysis"
   ]
  },
  {
   "cell_type": "code",
   "execution_count": 20,
   "metadata": {
    "collapsed": false,
    "scrolled": false
   },
   "outputs": [
    {
     "data": {
      "text/html": [
       "<div>\n",
       "<table border=\"1\" class=\"dataframe\">\n",
       "  <thead>\n",
       "    <tr style=\"text-align: right;\">\n",
       "      <th></th>\n",
       "      <th>playerID</th>\n",
       "      <th>birthYear</th>\n",
       "      <th>birthMonth</th>\n",
       "      <th>birthDay</th>\n",
       "      <th>finalGame</th>\n",
       "      <th>yearID</th>\n",
       "      <th>G_p</th>\n",
       "      <th>G_c</th>\n",
       "      <th>G_1b</th>\n",
       "      <th>G_2b</th>\n",
       "      <th>G_3b</th>\n",
       "      <th>G_ss</th>\n",
       "      <th>G_lf</th>\n",
       "      <th>G_cf</th>\n",
       "      <th>G_rf</th>\n",
       "      <th>G_dh</th>\n",
       "      <th>G_ph</th>\n",
       "      <th>G_pr</th>\n",
       "    </tr>\n",
       "  </thead>\n",
       "  <tbody>\n",
       "    <tr>\n",
       "      <th>0</th>\n",
       "      <td>abadfe01</td>\n",
       "      <td>1985.0</td>\n",
       "      <td>12.0</td>\n",
       "      <td>17.0</td>\n",
       "      <td>9/27/2014</td>\n",
       "      <td>2014</td>\n",
       "      <td>69</td>\n",
       "      <td>0</td>\n",
       "      <td>0</td>\n",
       "      <td>0</td>\n",
       "      <td>0</td>\n",
       "      <td>0</td>\n",
       "      <td>0</td>\n",
       "      <td>0</td>\n",
       "      <td>0</td>\n",
       "      <td>0.0</td>\n",
       "      <td>0.0</td>\n",
       "      <td>0.0</td>\n",
       "    </tr>\n",
       "    <tr>\n",
       "      <th>1</th>\n",
       "      <td>abreubo01</td>\n",
       "      <td>1974.0</td>\n",
       "      <td>3.0</td>\n",
       "      <td>11.0</td>\n",
       "      <td>9/28/2014</td>\n",
       "      <td>2014</td>\n",
       "      <td>0</td>\n",
       "      <td>0</td>\n",
       "      <td>0</td>\n",
       "      <td>0</td>\n",
       "      <td>0</td>\n",
       "      <td>0</td>\n",
       "      <td>5</td>\n",
       "      <td>0</td>\n",
       "      <td>26</td>\n",
       "      <td>3.0</td>\n",
       "      <td>46.0</td>\n",
       "      <td>0.0</td>\n",
       "    </tr>\n",
       "    <tr>\n",
       "      <th>2</th>\n",
       "      <td>abreujo02</td>\n",
       "      <td>1987.0</td>\n",
       "      <td>1.0</td>\n",
       "      <td>29.0</td>\n",
       "      <td>9/27/2014</td>\n",
       "      <td>2014</td>\n",
       "      <td>0</td>\n",
       "      <td>0</td>\n",
       "      <td>109</td>\n",
       "      <td>0</td>\n",
       "      <td>0</td>\n",
       "      <td>0</td>\n",
       "      <td>0</td>\n",
       "      <td>0</td>\n",
       "      <td>0</td>\n",
       "      <td>35.0</td>\n",
       "      <td>1.0</td>\n",
       "      <td>0.0</td>\n",
       "    </tr>\n",
       "    <tr>\n",
       "      <th>3</th>\n",
       "      <td>abreuto01</td>\n",
       "      <td>1984.0</td>\n",
       "      <td>11.0</td>\n",
       "      <td>13.0</td>\n",
       "      <td>7/28/2014</td>\n",
       "      <td>2014</td>\n",
       "      <td>0</td>\n",
       "      <td>0</td>\n",
       "      <td>0</td>\n",
       "      <td>1</td>\n",
       "      <td>1</td>\n",
       "      <td>0</td>\n",
       "      <td>0</td>\n",
       "      <td>0</td>\n",
       "      <td>0</td>\n",
       "      <td>0.0</td>\n",
       "      <td>1.0</td>\n",
       "      <td>0.0</td>\n",
       "    </tr>\n",
       "    <tr>\n",
       "      <th>4</th>\n",
       "      <td>aceveal01</td>\n",
       "      <td>1982.0</td>\n",
       "      <td>12.0</td>\n",
       "      <td>8.0</td>\n",
       "      <td>6/2/2014</td>\n",
       "      <td>2014</td>\n",
       "      <td>10</td>\n",
       "      <td>0</td>\n",
       "      <td>0</td>\n",
       "      <td>0</td>\n",
       "      <td>0</td>\n",
       "      <td>0</td>\n",
       "      <td>0</td>\n",
       "      <td>0</td>\n",
       "      <td>0</td>\n",
       "      <td>0.0</td>\n",
       "      <td>0.0</td>\n",
       "      <td>0.0</td>\n",
       "    </tr>\n",
       "  </tbody>\n",
       "</table>\n",
       "</div>"
      ],
      "text/plain": [
       "    playerID  birthYear  birthMonth  birthDay  finalGame  yearID  G_p  G_c  \\\n",
       "0   abadfe01     1985.0        12.0      17.0  9/27/2014    2014   69    0   \n",
       "1  abreubo01     1974.0         3.0      11.0  9/28/2014    2014    0    0   \n",
       "2  abreujo02     1987.0         1.0      29.0  9/27/2014    2014    0    0   \n",
       "3  abreuto01     1984.0        11.0      13.0  7/28/2014    2014    0    0   \n",
       "4  aceveal01     1982.0        12.0       8.0   6/2/2014    2014   10    0   \n",
       "\n",
       "   G_1b  G_2b  G_3b  G_ss  G_lf  G_cf  G_rf  G_dh  G_ph  G_pr  \n",
       "0     0     0     0     0     0     0     0   0.0   0.0   0.0  \n",
       "1     0     0     0     0     5     0    26   3.0  46.0   0.0  \n",
       "2   109     0     0     0     0     0     0  35.0   1.0   0.0  \n",
       "3     0     1     1     0     0     0     0   0.0   1.0   0.0  \n",
       "4     0     0     0     0     0     0     0   0.0   0.0   0.0  "
      ]
     },
     "execution_count": 20,
     "metadata": {},
     "output_type": "execute_result"
    }
   ],
   "source": [
    "# Merging required columns from master_df and appearances_df, and filtering to yearID 2014 to answer question 1\n",
    "curr_age_pos = (master_df.loc[:,['playerID','birthYear','birthMonth','birthDay','finalGame']].merge \\\n",
    "(appearances_df.loc[:,['yearID','playerID','G_p','G_c','G_1b','G_2b','G_3b','G_ss','G_lf','G_cf','G_rf','G_dh', \\\n",
    "                       'G_ph', 'G_pr']], on='playerID', how='inner'))\n",
    "curr_age_pos = curr_age_pos[curr_age_pos['yearID']==2014].reset_index(drop=True)\n",
    "curr_age_pos.head()"
   ]
  },
  {
   "cell_type": "code",
   "execution_count": 21,
   "metadata": {
    "collapsed": false,
    "scrolled": false
   },
   "outputs": [
    {
     "data": {
      "text/html": [
       "<div>\n",
       "<table border=\"1\" class=\"dataframe\">\n",
       "  <thead>\n",
       "    <tr style=\"text-align: right;\">\n",
       "      <th></th>\n",
       "      <th>playerID</th>\n",
       "      <th>birthYear</th>\n",
       "      <th>birthMonth</th>\n",
       "      <th>birthDay</th>\n",
       "      <th>finalGame</th>\n",
       "      <th>yearID</th>\n",
       "      <th>G_p</th>\n",
       "      <th>G_c</th>\n",
       "      <th>G_1b</th>\n",
       "      <th>G_2b</th>\n",
       "      <th>G_3b</th>\n",
       "      <th>G_ss</th>\n",
       "      <th>G_lf</th>\n",
       "      <th>G_cf</th>\n",
       "      <th>G_rf</th>\n",
       "      <th>G_dh</th>\n",
       "      <th>G_ph</th>\n",
       "      <th>G_pr</th>\n",
       "    </tr>\n",
       "  </thead>\n",
       "  <tbody>\n",
       "    <tr>\n",
       "      <th>0</th>\n",
       "      <td>abadfe01</td>\n",
       "      <td>1985.0</td>\n",
       "      <td>12.0</td>\n",
       "      <td>17.0</td>\n",
       "      <td>9/27/2014</td>\n",
       "      <td>2014</td>\n",
       "      <td>69</td>\n",
       "      <td>0</td>\n",
       "      <td>0</td>\n",
       "      <td>0</td>\n",
       "      <td>0</td>\n",
       "      <td>0</td>\n",
       "      <td>0</td>\n",
       "      <td>0</td>\n",
       "      <td>0</td>\n",
       "      <td>0.0</td>\n",
       "      <td>0.0</td>\n",
       "      <td>0.0</td>\n",
       "    </tr>\n",
       "    <tr>\n",
       "      <th>1</th>\n",
       "      <td>abreubo01</td>\n",
       "      <td>1974.0</td>\n",
       "      <td>3.0</td>\n",
       "      <td>11.0</td>\n",
       "      <td>9/28/2014</td>\n",
       "      <td>2014</td>\n",
       "      <td>0</td>\n",
       "      <td>0</td>\n",
       "      <td>0</td>\n",
       "      <td>0</td>\n",
       "      <td>0</td>\n",
       "      <td>0</td>\n",
       "      <td>5</td>\n",
       "      <td>0</td>\n",
       "      <td>26</td>\n",
       "      <td>3.0</td>\n",
       "      <td>46.0</td>\n",
       "      <td>0.0</td>\n",
       "    </tr>\n",
       "    <tr>\n",
       "      <th>2</th>\n",
       "      <td>abreujo02</td>\n",
       "      <td>1987.0</td>\n",
       "      <td>1.0</td>\n",
       "      <td>29.0</td>\n",
       "      <td>9/27/2014</td>\n",
       "      <td>2014</td>\n",
       "      <td>0</td>\n",
       "      <td>0</td>\n",
       "      <td>109</td>\n",
       "      <td>0</td>\n",
       "      <td>0</td>\n",
       "      <td>0</td>\n",
       "      <td>0</td>\n",
       "      <td>0</td>\n",
       "      <td>0</td>\n",
       "      <td>35.0</td>\n",
       "      <td>1.0</td>\n",
       "      <td>0.0</td>\n",
       "    </tr>\n",
       "    <tr>\n",
       "      <th>3</th>\n",
       "      <td>abreuto01</td>\n",
       "      <td>1984.0</td>\n",
       "      <td>11.0</td>\n",
       "      <td>13.0</td>\n",
       "      <td>7/28/2014</td>\n",
       "      <td>2014</td>\n",
       "      <td>0</td>\n",
       "      <td>0</td>\n",
       "      <td>0</td>\n",
       "      <td>1</td>\n",
       "      <td>1</td>\n",
       "      <td>0</td>\n",
       "      <td>0</td>\n",
       "      <td>0</td>\n",
       "      <td>0</td>\n",
       "      <td>0.0</td>\n",
       "      <td>1.0</td>\n",
       "      <td>0.0</td>\n",
       "    </tr>\n",
       "    <tr>\n",
       "      <th>4</th>\n",
       "      <td>aceveal01</td>\n",
       "      <td>1982.0</td>\n",
       "      <td>12.0</td>\n",
       "      <td>8.0</td>\n",
       "      <td>6/2/2014</td>\n",
       "      <td>2014</td>\n",
       "      <td>10</td>\n",
       "      <td>0</td>\n",
       "      <td>0</td>\n",
       "      <td>0</td>\n",
       "      <td>0</td>\n",
       "      <td>0</td>\n",
       "      <td>0</td>\n",
       "      <td>0</td>\n",
       "      <td>0</td>\n",
       "      <td>0.0</td>\n",
       "      <td>0.0</td>\n",
       "      <td>0.0</td>\n",
       "    </tr>\n",
       "  </tbody>\n",
       "</table>\n",
       "</div>"
      ],
      "text/plain": [
       "    playerID  birthYear  birthMonth  birthDay  finalGame  yearID  G_p  G_c  \\\n",
       "0   abadfe01     1985.0        12.0      17.0  9/27/2014    2014   69    0   \n",
       "1  abreubo01     1974.0         3.0      11.0  9/28/2014    2014    0    0   \n",
       "2  abreujo02     1987.0         1.0      29.0  9/27/2014    2014    0    0   \n",
       "3  abreuto01     1984.0        11.0      13.0  7/28/2014    2014    0    0   \n",
       "4  aceveal01     1982.0        12.0       8.0   6/2/2014    2014   10    0   \n",
       "\n",
       "   G_1b  G_2b  G_3b  G_ss  G_lf  G_cf  G_rf  G_dh  G_ph  G_pr  \n",
       "0     0     0     0     0     0     0     0   0.0   0.0   0.0  \n",
       "1     0     0     0     0     5     0    26   3.0  46.0   0.0  \n",
       "2   109     0     0     0     0     0     0  35.0   1.0   0.0  \n",
       "3     0     1     1     0     0     0     0   0.0   1.0   0.0  \n",
       "4     0     0     0     0     0     0     0   0.0   0.0   0.0  "
      ]
     },
     "metadata": {},
     "output_type": "display_data"
    },
    {
     "data": {
      "text/plain": [
       "playerID      0\n",
       "birthYear     0\n",
       "birthMonth    0\n",
       "birthDay      0\n",
       "finalGame     0\n",
       "yearID        0\n",
       "G_p           0\n",
       "G_c           0\n",
       "G_1b          0\n",
       "G_2b          0\n",
       "G_3b          0\n",
       "G_ss          0\n",
       "G_lf          0\n",
       "G_cf          0\n",
       "G_rf          0\n",
       "G_dh          0\n",
       "G_ph          0\n",
       "G_pr          0\n",
       "dtype: int64"
      ]
     },
     "metadata": {},
     "output_type": "display_data"
    }
   ],
   "source": [
    "# previewing first 5 rows and checking for missing values in curr_age_pos df\n",
    "def head_isnull(df):\n",
    "    display(df.head())\n",
    "    display(df.isnull().sum())\n",
    "    return\n",
    "\n",
    "head_isnull(curr_age_pos)"
   ]
  },
  {
   "cell_type": "code",
   "execution_count": 22,
   "metadata": {
    "collapsed": false,
    "scrolled": true
   },
   "outputs": [],
   "source": [
    "# Converting birth year, month, day to int and creating birth date column as a datetime type in curr_age_pos df\n",
    "birth_date_df = pd.DataFrame()\n",
    "birth_date_df['year'] = curr_age_pos['birthYear'].astype('int')\n",
    "birth_date_df['month'] = curr_age_pos['birthMonth'].astype('int')\n",
    "birth_date_df['day'] = curr_age_pos['birthDay'].astype('int')\n",
    "curr_age_pos['birthDate'] = pd.to_datetime(birth_date_df)\n",
    "curr_age_pos = curr_age_pos.drop(['birthYear','birthMonth','birthDay'], axis='columns')\n",
    "\n",
    "# Converting final Game to datetime type in curr_age_pos df\n",
    "curr_age_pos['finalGame'] = pd.to_datetime(curr_age_pos['finalGame'],format='%m/%d/%Y')"
   ]
  },
  {
   "cell_type": "code",
   "execution_count": 23,
   "metadata": {
    "collapsed": false
   },
   "outputs": [
    {
     "data": {
      "text/plain": [
       "playerID             object\n",
       "finalGame    datetime64[ns]\n",
       "yearID                int64\n",
       "G_p                   int64\n",
       "G_c                   int64\n",
       "G_1b                  int64\n",
       "G_2b                  int64\n",
       "G_3b                  int64\n",
       "G_ss                  int64\n",
       "G_lf                  int64\n",
       "G_cf                  int64\n",
       "G_rf                  int64\n",
       "G_dh                float64\n",
       "G_ph                float64\n",
       "G_pr                float64\n",
       "birthDate    datetime64[ns]\n",
       "dtype: object"
      ]
     },
     "execution_count": 23,
     "metadata": {},
     "output_type": "execute_result"
    }
   ],
   "source": [
    "# checking curr_age_pos df data types\n",
    "curr_age_pos.dtypes"
   ]
  },
  {
   "cell_type": "code",
   "execution_count": 24,
   "metadata": {
    "collapsed": false
   },
   "outputs": [],
   "source": [
    "# Merging required columns from master_df and pitching_df to answer question 2\n",
    "pitch_hand_perf = master_df.loc[:,['playerID','throws']].merge \\\n",
    "(pitching_df.loc[:,['playerID','W','L','IPouts','H','BB','SO']], on='playerID', how='inner')"
   ]
  },
  {
   "cell_type": "code",
   "execution_count": 25,
   "metadata": {
    "collapsed": false
   },
   "outputs": [
    {
     "data": {
      "text/html": [
       "<div>\n",
       "<table border=\"1\" class=\"dataframe\">\n",
       "  <thead>\n",
       "    <tr style=\"text-align: right;\">\n",
       "      <th></th>\n",
       "      <th>playerID</th>\n",
       "      <th>throws</th>\n",
       "      <th>W</th>\n",
       "      <th>L</th>\n",
       "      <th>IPouts</th>\n",
       "      <th>H</th>\n",
       "      <th>BB</th>\n",
       "      <th>SO</th>\n",
       "    </tr>\n",
       "  </thead>\n",
       "  <tbody>\n",
       "    <tr>\n",
       "      <th>0</th>\n",
       "      <td>aardsda01</td>\n",
       "      <td>R</td>\n",
       "      <td>1</td>\n",
       "      <td>0</td>\n",
       "      <td>32.0</td>\n",
       "      <td>20</td>\n",
       "      <td>10</td>\n",
       "      <td>5</td>\n",
       "    </tr>\n",
       "    <tr>\n",
       "      <th>1</th>\n",
       "      <td>aardsda01</td>\n",
       "      <td>R</td>\n",
       "      <td>3</td>\n",
       "      <td>0</td>\n",
       "      <td>159.0</td>\n",
       "      <td>41</td>\n",
       "      <td>28</td>\n",
       "      <td>49</td>\n",
       "    </tr>\n",
       "    <tr>\n",
       "      <th>2</th>\n",
       "      <td>aardsda01</td>\n",
       "      <td>R</td>\n",
       "      <td>2</td>\n",
       "      <td>1</td>\n",
       "      <td>97.0</td>\n",
       "      <td>39</td>\n",
       "      <td>17</td>\n",
       "      <td>36</td>\n",
       "    </tr>\n",
       "    <tr>\n",
       "      <th>3</th>\n",
       "      <td>aardsda01</td>\n",
       "      <td>R</td>\n",
       "      <td>4</td>\n",
       "      <td>2</td>\n",
       "      <td>146.0</td>\n",
       "      <td>49</td>\n",
       "      <td>35</td>\n",
       "      <td>49</td>\n",
       "    </tr>\n",
       "    <tr>\n",
       "      <th>4</th>\n",
       "      <td>aardsda01</td>\n",
       "      <td>R</td>\n",
       "      <td>3</td>\n",
       "      <td>6</td>\n",
       "      <td>214.0</td>\n",
       "      <td>49</td>\n",
       "      <td>34</td>\n",
       "      <td>80</td>\n",
       "    </tr>\n",
       "  </tbody>\n",
       "</table>\n",
       "</div>"
      ],
      "text/plain": [
       "    playerID throws  W  L  IPouts   H  BB  SO\n",
       "0  aardsda01      R  1  0    32.0  20  10   5\n",
       "1  aardsda01      R  3  0   159.0  41  28  49\n",
       "2  aardsda01      R  2  1    97.0  39  17  36\n",
       "3  aardsda01      R  4  2   146.0  49  35  49\n",
       "4  aardsda01      R  3  6   214.0  49  34  80"
      ]
     },
     "metadata": {},
     "output_type": "display_data"
    },
    {
     "data": {
      "text/plain": [
       "playerID      0\n",
       "throws      339\n",
       "W             0\n",
       "L             0\n",
       "IPouts        1\n",
       "H             0\n",
       "BB            0\n",
       "SO            0\n",
       "dtype: int64"
      ]
     },
     "metadata": {},
     "output_type": "display_data"
    }
   ],
   "source": [
    "# previewing first 5 rows and checking for missing values in pitch_hand_perf df\n",
    "head_isnull(pitch_hand_perf)"
   ]
  },
  {
   "cell_type": "code",
   "execution_count": 26,
   "metadata": {
    "collapsed": false
   },
   "outputs": [
    {
     "data": {
      "text/plain": [
       "43330"
      ]
     },
     "execution_count": 26,
     "metadata": {},
     "output_type": "execute_result"
    }
   ],
   "source": [
    "# checking the no. of rows in pitch_hand_perf df\n",
    "pitch_hand_perf.shape[0]"
   ]
  },
  {
   "cell_type": "code",
   "execution_count": 27,
   "metadata": {
    "collapsed": false
   },
   "outputs": [
    {
     "data": {
      "text/plain": [
       "42990"
      ]
     },
     "execution_count": 27,
     "metadata": {},
     "output_type": "execute_result"
    }
   ],
   "source": [
    "# dropping all rows with missing values in the throws column in pitch_hand_perf df\n",
    "pitch_hand_perf = pitch_hand_perf.dropna()\n",
    "pitch_hand_perf.shape[0]"
   ]
  },
  {
   "cell_type": "code",
   "execution_count": 28,
   "metadata": {
    "collapsed": false
   },
   "outputs": [
    {
     "data": {
      "text/plain": [
       "dtype('int64')"
      ]
     },
     "execution_count": 28,
     "metadata": {},
     "output_type": "execute_result"
    }
   ],
   "source": [
    "# Converting Outs Pitched from float to int in pitch_hand_perf df\n",
    "pitch_hand_perf['IPouts'] = pitch_hand_perf['IPouts'].astype('int')\n",
    "pitch_hand_perf['IPouts'].dtype"
   ]
  },
  {
   "cell_type": "code",
   "execution_count": 29,
   "metadata": {
    "collapsed": false
   },
   "outputs": [
    {
     "data": {
      "text/html": [
       "<div>\n",
       "<table border=\"1\" class=\"dataframe\">\n",
       "  <thead>\n",
       "    <tr style=\"text-align: right;\">\n",
       "      <th></th>\n",
       "      <th>throws</th>\n",
       "      <th>W</th>\n",
       "      <th>L</th>\n",
       "      <th>IPouts</th>\n",
       "      <th>H</th>\n",
       "      <th>BB</th>\n",
       "      <th>SO</th>\n",
       "    </tr>\n",
       "  </thead>\n",
       "  <tbody>\n",
       "    <tr>\n",
       "      <th>0</th>\n",
       "      <td>R</td>\n",
       "      <td>1</td>\n",
       "      <td>0</td>\n",
       "      <td>32</td>\n",
       "      <td>20</td>\n",
       "      <td>10</td>\n",
       "      <td>5</td>\n",
       "    </tr>\n",
       "    <tr>\n",
       "      <th>1</th>\n",
       "      <td>R</td>\n",
       "      <td>3</td>\n",
       "      <td>0</td>\n",
       "      <td>159</td>\n",
       "      <td>41</td>\n",
       "      <td>28</td>\n",
       "      <td>49</td>\n",
       "    </tr>\n",
       "    <tr>\n",
       "      <th>2</th>\n",
       "      <td>R</td>\n",
       "      <td>2</td>\n",
       "      <td>1</td>\n",
       "      <td>97</td>\n",
       "      <td>39</td>\n",
       "      <td>17</td>\n",
       "      <td>36</td>\n",
       "    </tr>\n",
       "    <tr>\n",
       "      <th>3</th>\n",
       "      <td>R</td>\n",
       "      <td>4</td>\n",
       "      <td>2</td>\n",
       "      <td>146</td>\n",
       "      <td>49</td>\n",
       "      <td>35</td>\n",
       "      <td>49</td>\n",
       "    </tr>\n",
       "    <tr>\n",
       "      <th>4</th>\n",
       "      <td>R</td>\n",
       "      <td>3</td>\n",
       "      <td>6</td>\n",
       "      <td>214</td>\n",
       "      <td>49</td>\n",
       "      <td>34</td>\n",
       "      <td>80</td>\n",
       "    </tr>\n",
       "  </tbody>\n",
       "</table>\n",
       "</div>"
      ],
      "text/plain": [
       "  throws  W  L  IPouts   H  BB  SO\n",
       "0      R  1  0      32  20  10   5\n",
       "1      R  3  0     159  41  28  49\n",
       "2      R  2  1      97  39  17  36\n",
       "3      R  4  2     146  49  35  49\n",
       "4      R  3  6     214  49  34  80"
      ]
     },
     "execution_count": 29,
     "metadata": {},
     "output_type": "execute_result"
    }
   ],
   "source": [
    "# dropping column playerID from pitch_hand_perf df\n",
    "pitch_hand_perf = pitch_hand_perf.drop('playerID', axis='columns')\n",
    "pitch_hand_perf.head()"
   ]
  },
  {
   "cell_type": "code",
   "execution_count": 30,
   "metadata": {
    "collapsed": false
   },
   "outputs": [],
   "source": [
    "# Merging required columns from master_df and batting_df to answer question 3\n",
    "homeruns = master_df.loc[:,['playerID','nameFirst','nameLast','nameGiven']].merge \\\n",
    "(batting_df.loc[:,['playerID','yearID','HR']], on='playerID', how='inner')"
   ]
  },
  {
   "cell_type": "code",
   "execution_count": 31,
   "metadata": {
    "collapsed": false
   },
   "outputs": [
    {
     "data": {
      "text/html": [
       "<div>\n",
       "<table border=\"1\" class=\"dataframe\">\n",
       "  <thead>\n",
       "    <tr style=\"text-align: right;\">\n",
       "      <th></th>\n",
       "      <th>playerID</th>\n",
       "      <th>nameFirst</th>\n",
       "      <th>nameLast</th>\n",
       "      <th>nameGiven</th>\n",
       "      <th>yearID</th>\n",
       "      <th>HR</th>\n",
       "    </tr>\n",
       "  </thead>\n",
       "  <tbody>\n",
       "    <tr>\n",
       "      <th>0</th>\n",
       "      <td>aardsda01</td>\n",
       "      <td>David</td>\n",
       "      <td>Aardsma</td>\n",
       "      <td>David Allan</td>\n",
       "      <td>2004</td>\n",
       "      <td>0.0</td>\n",
       "    </tr>\n",
       "    <tr>\n",
       "      <th>1</th>\n",
       "      <td>aardsda01</td>\n",
       "      <td>David</td>\n",
       "      <td>Aardsma</td>\n",
       "      <td>David Allan</td>\n",
       "      <td>2006</td>\n",
       "      <td>0.0</td>\n",
       "    </tr>\n",
       "    <tr>\n",
       "      <th>2</th>\n",
       "      <td>aardsda01</td>\n",
       "      <td>David</td>\n",
       "      <td>Aardsma</td>\n",
       "      <td>David Allan</td>\n",
       "      <td>2007</td>\n",
       "      <td>0.0</td>\n",
       "    </tr>\n",
       "    <tr>\n",
       "      <th>3</th>\n",
       "      <td>aardsda01</td>\n",
       "      <td>David</td>\n",
       "      <td>Aardsma</td>\n",
       "      <td>David Allan</td>\n",
       "      <td>2008</td>\n",
       "      <td>0.0</td>\n",
       "    </tr>\n",
       "    <tr>\n",
       "      <th>4</th>\n",
       "      <td>aardsda01</td>\n",
       "      <td>David</td>\n",
       "      <td>Aardsma</td>\n",
       "      <td>David Allan</td>\n",
       "      <td>2009</td>\n",
       "      <td>0.0</td>\n",
       "    </tr>\n",
       "  </tbody>\n",
       "</table>\n",
       "</div>"
      ],
      "text/plain": [
       "    playerID nameFirst nameLast    nameGiven  yearID   HR\n",
       "0  aardsda01     David  Aardsma  David Allan    2004  0.0\n",
       "1  aardsda01     David  Aardsma  David Allan    2006  0.0\n",
       "2  aardsda01     David  Aardsma  David Allan    2007  0.0\n",
       "3  aardsda01     David  Aardsma  David Allan    2008  0.0\n",
       "4  aardsda01     David  Aardsma  David Allan    2009  0.0"
      ]
     },
     "metadata": {},
     "output_type": "display_data"
    },
    {
     "data": {
      "text/plain": [
       "playerID        0\n",
       "nameFirst      41\n",
       "nameLast        0\n",
       "nameGiven      41\n",
       "yearID          0\n",
       "HR           5149\n",
       "dtype: int64"
      ]
     },
     "metadata": {},
     "output_type": "display_data"
    }
   ],
   "source": [
    "# previewing first 5 rows and checking for missing values in homeruns df\n",
    "head_isnull(homeruns)"
   ]
  },
  {
   "cell_type": "code",
   "execution_count": 32,
   "metadata": {
    "collapsed": false
   },
   "outputs": [
    {
     "data": {
      "text/plain": [
       "99846"
      ]
     },
     "execution_count": 32,
     "metadata": {},
     "output_type": "execute_result"
    }
   ],
   "source": [
    "# checking the no. of rows in the homeruns df\n",
    "homeruns.shape[0]"
   ]
  },
  {
   "cell_type": "code",
   "execution_count": 33,
   "metadata": {
    "collapsed": false
   },
   "outputs": [
    {
     "data": {
      "text/plain": [
       "94656"
      ]
     },
     "execution_count": 33,
     "metadata": {},
     "output_type": "execute_result"
    }
   ],
   "source": [
    "# dropping all rows with missing values in the homeruns df\n",
    "homeruns = homeruns.dropna()\n",
    "homeruns.shape[0]"
   ]
  },
  {
   "cell_type": "code",
   "execution_count": 34,
   "metadata": {
    "collapsed": false
   },
   "outputs": [
    {
     "data": {
      "text/plain": [
       "dtype('int64')"
      ]
     },
     "execution_count": 34,
     "metadata": {},
     "output_type": "execute_result"
    }
   ],
   "source": [
    "# Converting Home Runs from float to int\n",
    "homeruns['HR'] = homeruns['HR'].astype('int')\n",
    "homeruns['HR'].dtype"
   ]
  },
  {
   "cell_type": "code",
   "execution_count": 35,
   "metadata": {
    "collapsed": false
   },
   "outputs": [],
   "source": [
    "# Merging teams_df and franchises_df, this new df will be used to answer question 4\n",
    "teams_franchises = teams_df.loc[:,['yearID','G','W','WSWin','franchID']]. \\\n",
    "merge(franchises_df[franchises_df['active']=='Y'].loc[:,['franchID','franchName']],on='franchID',how='inner')\n",
    "teams_franchises = teams_franchises.drop('franchID',axis='columns')"
   ]
  },
  {
   "cell_type": "code",
   "execution_count": 36,
   "metadata": {
    "collapsed": false
   },
   "outputs": [
    {
     "data": {
      "text/html": [
       "<div>\n",
       "<table border=\"1\" class=\"dataframe\">\n",
       "  <thead>\n",
       "    <tr style=\"text-align: right;\">\n",
       "      <th></th>\n",
       "      <th>yearID</th>\n",
       "      <th>G</th>\n",
       "      <th>W</th>\n",
       "      <th>WSWin</th>\n",
       "      <th>franchName</th>\n",
       "    </tr>\n",
       "  </thead>\n",
       "  <tbody>\n",
       "    <tr>\n",
       "      <th>0</th>\n",
       "      <td>1876</td>\n",
       "      <td>70</td>\n",
       "      <td>39</td>\n",
       "      <td>NaN</td>\n",
       "      <td>Atlanta Braves</td>\n",
       "    </tr>\n",
       "    <tr>\n",
       "      <th>1</th>\n",
       "      <td>1877</td>\n",
       "      <td>61</td>\n",
       "      <td>42</td>\n",
       "      <td>NaN</td>\n",
       "      <td>Atlanta Braves</td>\n",
       "    </tr>\n",
       "    <tr>\n",
       "      <th>2</th>\n",
       "      <td>1878</td>\n",
       "      <td>60</td>\n",
       "      <td>41</td>\n",
       "      <td>NaN</td>\n",
       "      <td>Atlanta Braves</td>\n",
       "    </tr>\n",
       "    <tr>\n",
       "      <th>3</th>\n",
       "      <td>1879</td>\n",
       "      <td>84</td>\n",
       "      <td>54</td>\n",
       "      <td>NaN</td>\n",
       "      <td>Atlanta Braves</td>\n",
       "    </tr>\n",
       "    <tr>\n",
       "      <th>4</th>\n",
       "      <td>1880</td>\n",
       "      <td>86</td>\n",
       "      <td>40</td>\n",
       "      <td>NaN</td>\n",
       "      <td>Atlanta Braves</td>\n",
       "    </tr>\n",
       "  </tbody>\n",
       "</table>\n",
       "</div>"
      ],
      "text/plain": [
       "   yearID   G   W WSWin      franchName\n",
       "0    1876  70  39   NaN  Atlanta Braves\n",
       "1    1877  61  42   NaN  Atlanta Braves\n",
       "2    1878  60  41   NaN  Atlanta Braves\n",
       "3    1879  84  54   NaN  Atlanta Braves\n",
       "4    1880  86  40   NaN  Atlanta Braves"
      ]
     },
     "metadata": {},
     "output_type": "display_data"
    },
    {
     "data": {
      "text/plain": [
       "yearID          0\n",
       "G               0\n",
       "W               0\n",
       "WSWin         180\n",
       "franchName      0\n",
       "dtype: int64"
      ]
     },
     "metadata": {},
     "output_type": "display_data"
    }
   ],
   "source": [
    "# previewing first 5 rows and checking for missing values in teams_franchises df\n",
    "head_isnull(teams_franchises)"
   ]
  },
  {
   "cell_type": "code",
   "execution_count": 37,
   "metadata": {
    "collapsed": false
   },
   "outputs": [
    {
     "data": {
      "text/plain": [
       "0"
      ]
     },
     "execution_count": 37,
     "metadata": {},
     "output_type": "execute_result"
    }
   ],
   "source": [
    "# Filling all missing values in the world series win column with 'N' in teams_franchises df\n",
    "teams_franchises['WSWin'] = teams_franchises['WSWin'].fillna('N')\n",
    "teams_franchises['WSWin'].isnull().sum()"
   ]
  },
  {
   "cell_type": "code",
   "execution_count": 38,
   "metadata": {
    "collapsed": false
   },
   "outputs": [],
   "source": [
    "# Merging required columns from batting_df and salaries_df to answer question 5\n",
    "batting_salary = batting_df.loc[:,['playerID','yearID','AB','H','RBI','BB','HBP','SF','HR']].merge \\\n",
    "(salaries_df.loc[:,['playerID','yearID','salary']], on=['playerID','yearID'], how='inner')"
   ]
  },
  {
   "cell_type": "code",
   "execution_count": 39,
   "metadata": {
    "collapsed": false
   },
   "outputs": [
    {
     "data": {
      "text/html": [
       "<div>\n",
       "<table border=\"1\" class=\"dataframe\">\n",
       "  <thead>\n",
       "    <tr style=\"text-align: right;\">\n",
       "      <th></th>\n",
       "      <th>playerID</th>\n",
       "      <th>yearID</th>\n",
       "      <th>AB</th>\n",
       "      <th>H</th>\n",
       "      <th>RBI</th>\n",
       "      <th>BB</th>\n",
       "      <th>HBP</th>\n",
       "      <th>SF</th>\n",
       "      <th>HR</th>\n",
       "      <th>salary</th>\n",
       "    </tr>\n",
       "  </thead>\n",
       "  <tbody>\n",
       "    <tr>\n",
       "      <th>0</th>\n",
       "      <td>ackerji01</td>\n",
       "      <td>1985</td>\n",
       "      <td>NaN</td>\n",
       "      <td>NaN</td>\n",
       "      <td>NaN</td>\n",
       "      <td>NaN</td>\n",
       "      <td>NaN</td>\n",
       "      <td>NaN</td>\n",
       "      <td>NaN</td>\n",
       "      <td>170000</td>\n",
       "    </tr>\n",
       "    <tr>\n",
       "      <th>1</th>\n",
       "      <td>agostju01</td>\n",
       "      <td>1985</td>\n",
       "      <td>0.0</td>\n",
       "      <td>0.0</td>\n",
       "      <td>0.0</td>\n",
       "      <td>0.0</td>\n",
       "      <td>0.0</td>\n",
       "      <td>0.0</td>\n",
       "      <td>0.0</td>\n",
       "      <td>147500</td>\n",
       "    </tr>\n",
       "    <tr>\n",
       "      <th>2</th>\n",
       "      <td>aguaylu01</td>\n",
       "      <td>1985</td>\n",
       "      <td>165.0</td>\n",
       "      <td>46.0</td>\n",
       "      <td>21.0</td>\n",
       "      <td>22.0</td>\n",
       "      <td>6.0</td>\n",
       "      <td>3.0</td>\n",
       "      <td>6.0</td>\n",
       "      <td>237000</td>\n",
       "    </tr>\n",
       "    <tr>\n",
       "      <th>3</th>\n",
       "      <td>alexado01</td>\n",
       "      <td>1985</td>\n",
       "      <td>NaN</td>\n",
       "      <td>NaN</td>\n",
       "      <td>NaN</td>\n",
       "      <td>NaN</td>\n",
       "      <td>NaN</td>\n",
       "      <td>NaN</td>\n",
       "      <td>NaN</td>\n",
       "      <td>875000</td>\n",
       "    </tr>\n",
       "    <tr>\n",
       "      <th>4</th>\n",
       "      <td>allenne01</td>\n",
       "      <td>1985</td>\n",
       "      <td>2.0</td>\n",
       "      <td>0.0</td>\n",
       "      <td>0.0</td>\n",
       "      <td>0.0</td>\n",
       "      <td>0.0</td>\n",
       "      <td>0.0</td>\n",
       "      <td>0.0</td>\n",
       "      <td>750000</td>\n",
       "    </tr>\n",
       "  </tbody>\n",
       "</table>\n",
       "</div>"
      ],
      "text/plain": [
       "    playerID  yearID     AB     H   RBI    BB  HBP   SF   HR  salary\n",
       "0  ackerji01    1985    NaN   NaN   NaN   NaN  NaN  NaN  NaN  170000\n",
       "1  agostju01    1985    0.0   0.0   0.0   0.0  0.0  0.0  0.0  147500\n",
       "2  aguaylu01    1985  165.0  46.0  21.0  22.0  6.0  3.0  6.0  237000\n",
       "3  alexado01    1985    NaN   NaN   NaN   NaN  NaN  NaN  NaN  875000\n",
       "4  allenne01    1985    2.0   0.0   0.0   0.0  0.0  0.0  0.0  750000"
      ]
     },
     "metadata": {},
     "output_type": "display_data"
    },
    {
     "data": {
      "text/plain": [
       "playerID       0\n",
       "yearID         0\n",
       "AB          2145\n",
       "H           2145\n",
       "RBI         2145\n",
       "BB          2145\n",
       "HBP         2145\n",
       "SF          2145\n",
       "HR          2145\n",
       "salary         0\n",
       "dtype: int64"
      ]
     },
     "metadata": {},
     "output_type": "display_data"
    }
   ],
   "source": [
    "# previewing first 5 rows and checking for missing values in the batting_salary df\n",
    "head_isnull(batting_salary)"
   ]
  },
  {
   "cell_type": "code",
   "execution_count": 40,
   "metadata": {
    "collapsed": false
   },
   "outputs": [
    {
     "data": {
      "text/plain": [
       "20527"
      ]
     },
     "execution_count": 40,
     "metadata": {},
     "output_type": "execute_result"
    }
   ],
   "source": [
    "# dropping all rows with the sum of At Bats, Walks, Hit By Pitch and Sacrifice Flies equal to 0 in batting_salary df\n",
    "batting_salary = batting_salary.fillna(0)\n",
    "criterion = ((batting_salary['AB'] + batting_salary['BB'] + batting_salary['HBP'] + batting_salary ['SF']) == 0.0)\n",
    "batting_salary = batting_salary.drop(batting_salary[criterion].index, axis = 'index').reset_index(drop=True)\n",
    "batting_salary.shape[0]"
   ]
  },
  {
   "cell_type": "markdown",
   "metadata": {},
   "source": [
    "## Answering questions"
   ]
  },
  {
   "cell_type": "markdown",
   "metadata": {},
   "source": [
    "### Question 1: What is the age distribution of MLB players who played during the 2014 season? Does the age distribution change based on the position they played?"
   ]
  },
  {
   "cell_type": "code",
   "execution_count": 41,
   "metadata": {
    "collapsed": false
   },
   "outputs": [
    {
     "data": {
      "text/html": [
       "<div>\n",
       "<table border=\"1\" class=\"dataframe\">\n",
       "  <thead>\n",
       "    <tr style=\"text-align: right;\">\n",
       "      <th></th>\n",
       "      <th>playerID</th>\n",
       "      <th>finalGame</th>\n",
       "      <th>yearID</th>\n",
       "      <th>G_p</th>\n",
       "      <th>G_c</th>\n",
       "      <th>G_1b</th>\n",
       "      <th>G_2b</th>\n",
       "      <th>G_3b</th>\n",
       "      <th>G_ss</th>\n",
       "      <th>G_lf</th>\n",
       "      <th>G_cf</th>\n",
       "      <th>G_rf</th>\n",
       "      <th>G_dh</th>\n",
       "      <th>G_ph</th>\n",
       "      <th>G_pr</th>\n",
       "      <th>birthDate</th>\n",
       "      <th>Age</th>\n",
       "    </tr>\n",
       "  </thead>\n",
       "  <tbody>\n",
       "    <tr>\n",
       "      <th>0</th>\n",
       "      <td>abadfe01</td>\n",
       "      <td>2014-09-27</td>\n",
       "      <td>2014</td>\n",
       "      <td>69</td>\n",
       "      <td>0</td>\n",
       "      <td>0</td>\n",
       "      <td>0</td>\n",
       "      <td>0</td>\n",
       "      <td>0</td>\n",
       "      <td>0</td>\n",
       "      <td>0</td>\n",
       "      <td>0</td>\n",
       "      <td>0.0</td>\n",
       "      <td>0.0</td>\n",
       "      <td>0.0</td>\n",
       "      <td>1985-12-17</td>\n",
       "      <td>28.8</td>\n",
       "    </tr>\n",
       "    <tr>\n",
       "      <th>1</th>\n",
       "      <td>abreubo01</td>\n",
       "      <td>2014-09-28</td>\n",
       "      <td>2014</td>\n",
       "      <td>0</td>\n",
       "      <td>0</td>\n",
       "      <td>0</td>\n",
       "      <td>0</td>\n",
       "      <td>0</td>\n",
       "      <td>0</td>\n",
       "      <td>5</td>\n",
       "      <td>0</td>\n",
       "      <td>26</td>\n",
       "      <td>3.0</td>\n",
       "      <td>46.0</td>\n",
       "      <td>0.0</td>\n",
       "      <td>1974-03-11</td>\n",
       "      <td>40.6</td>\n",
       "    </tr>\n",
       "    <tr>\n",
       "      <th>2</th>\n",
       "      <td>abreujo02</td>\n",
       "      <td>2014-09-27</td>\n",
       "      <td>2014</td>\n",
       "      <td>0</td>\n",
       "      <td>0</td>\n",
       "      <td>109</td>\n",
       "      <td>0</td>\n",
       "      <td>0</td>\n",
       "      <td>0</td>\n",
       "      <td>0</td>\n",
       "      <td>0</td>\n",
       "      <td>0</td>\n",
       "      <td>35.0</td>\n",
       "      <td>1.0</td>\n",
       "      <td>0.0</td>\n",
       "      <td>1987-01-29</td>\n",
       "      <td>27.7</td>\n",
       "    </tr>\n",
       "    <tr>\n",
       "      <th>3</th>\n",
       "      <td>abreuto01</td>\n",
       "      <td>2014-07-28</td>\n",
       "      <td>2014</td>\n",
       "      <td>0</td>\n",
       "      <td>0</td>\n",
       "      <td>0</td>\n",
       "      <td>1</td>\n",
       "      <td>1</td>\n",
       "      <td>0</td>\n",
       "      <td>0</td>\n",
       "      <td>0</td>\n",
       "      <td>0</td>\n",
       "      <td>0.0</td>\n",
       "      <td>1.0</td>\n",
       "      <td>0.0</td>\n",
       "      <td>1984-11-13</td>\n",
       "      <td>29.7</td>\n",
       "    </tr>\n",
       "    <tr>\n",
       "      <th>4</th>\n",
       "      <td>aceveal01</td>\n",
       "      <td>2014-06-02</td>\n",
       "      <td>2014</td>\n",
       "      <td>10</td>\n",
       "      <td>0</td>\n",
       "      <td>0</td>\n",
       "      <td>0</td>\n",
       "      <td>0</td>\n",
       "      <td>0</td>\n",
       "      <td>0</td>\n",
       "      <td>0</td>\n",
       "      <td>0</td>\n",
       "      <td>0.0</td>\n",
       "      <td>0.0</td>\n",
       "      <td>0.0</td>\n",
       "      <td>1982-12-08</td>\n",
       "      <td>31.5</td>\n",
       "    </tr>\n",
       "  </tbody>\n",
       "</table>\n",
       "</div>"
      ],
      "text/plain": [
       "    playerID  finalGame  yearID  G_p  G_c  G_1b  G_2b  G_3b  G_ss  G_lf  G_cf  \\\n",
       "0   abadfe01 2014-09-27    2014   69    0     0     0     0     0     0     0   \n",
       "1  abreubo01 2014-09-28    2014    0    0     0     0     0     0     5     0   \n",
       "2  abreujo02 2014-09-27    2014    0    0   109     0     0     0     0     0   \n",
       "3  abreuto01 2014-07-28    2014    0    0     0     1     1     0     0     0   \n",
       "4  aceveal01 2014-06-02    2014   10    0     0     0     0     0     0     0   \n",
       "\n",
       "   G_rf  G_dh  G_ph  G_pr  birthDate   Age  \n",
       "0     0   0.0   0.0   0.0 1985-12-17  28.8  \n",
       "1    26   3.0  46.0   0.0 1974-03-11  40.6  \n",
       "2     0  35.0   1.0   0.0 1987-01-29  27.7  \n",
       "3     0   0.0   1.0   0.0 1984-11-13  29.7  \n",
       "4     0   0.0   0.0   0.0 1982-12-08  31.5  "
      ]
     },
     "execution_count": 41,
     "metadata": {},
     "output_type": "execute_result"
    }
   ],
   "source": [
    "# Calculating the age in years of the players in the 2014 season\n",
    "curr_age_pos['Age'] = (curr_age_pos['finalGame'] - curr_age_pos['birthDate']).dt.days/ 365\n",
    "curr_age_pos['Age'] = curr_age_pos['Age'].round(decimals=1)\n",
    "curr_age_pos.head()"
   ]
  },
  {
   "cell_type": "code",
   "execution_count": 42,
   "metadata": {
    "collapsed": false
   },
   "outputs": [
    {
     "data": {
      "text/plain": [
       "count    1313.000000\n",
       "mean       28.689490\n",
       "std         3.877564\n",
       "min        20.600000\n",
       "25%        25.800000\n",
       "50%        28.100000\n",
       "75%        31.100000\n",
       "max        43.700000\n",
       "Name: Age, dtype: float64"
      ]
     },
     "execution_count": 42,
     "metadata": {},
     "output_type": "execute_result"
    }
   ],
   "source": [
    "# computing descriptive statistics of the ages of 2014 players\n",
    "curr_age_pos['Age'].describe()"
   ]
  },
  {
   "cell_type": "markdown",
   "metadata": {},
   "source": [
    "Observation and tenative inference:\n",
    "\n",
    "The mean age is ~28.5 years, whereas the median is a bit lower ~28 years. Suggesting that the mean is influenced by quite a few players with relatively higher ages. \n",
    "\n",
    "The ages range from ~20.5 to ~43.5 years. \n",
    "\n",
    "The difference between the median and min is about 7.5 years. But, the difference between the max and median is ~15.5 years. So, the distribution seems to be right tailed or positively skewed."
   ]
  },
  {
   "cell_type": "code",
   "execution_count": 43,
   "metadata": {
    "collapsed": false
   },
   "outputs": [
    {
     "data": {
      "image/png": "[encoded data removed]",
      "text/plain": [
       "<matplotlib.figure.Figure at 0x10f9c0550>"
      ]
     },
     "metadata": {},
     "output_type": "display_data"
    }
   ],
   "source": [
    "# plotting a histogram of the ages of 2014 players\n",
    "%matplotlib inline\n",
    "\n",
    "plt.hist(curr_age_pos['Age'])\n",
    "plt.title(\"Age distribution of players\")\n",
    "plt.xlabel(\"Age in years\")\n",
    "plt.ylabel(\"No. of players\")\n",
    "plt.show()"
   ]
  },
  {
   "cell_type": "markdown",
   "metadata": {},
   "source": [
    "Observation and tentative inference:\n",
    "\n",
    "Histogram above closely aligns with our interpretation before based on the descriptive statistics. The age distribution is positively skewed. Majority of the players are 22 to 32 years old."
   ]
  },
  {
   "cell_type": "code",
   "execution_count": 44,
   "metadata": {
    "collapsed": false
   },
   "outputs": [
    {
     "name": "stdout",
     "output_type": "stream",
     "text": [
      "    playerID  finalGame  yearID  Pitcher  Catcher  1st_baseman  2nd_baseman  \\\n",
      "0   abadfe01 2014-09-27    2014     28.8      NaN          NaN          NaN   \n",
      "1  abreubo01 2014-09-28    2014      NaN      NaN          NaN          NaN   \n",
      "2  abreujo02 2014-09-27    2014      NaN      NaN         27.7          NaN   \n",
      "3  abreuto01 2014-07-28    2014      NaN      NaN          NaN         29.7   \n",
      "4  aceveal01 2014-06-02    2014     31.5      NaN          NaN          NaN   \n",
      "\n",
      "   3rd_baseman  Short_stop  left_fielder  center_fielder  right_fielder  \\\n",
      "0          NaN         NaN           NaN             NaN            NaN   \n",
      "1          NaN         NaN          40.6             NaN           40.6   \n",
      "2          NaN         NaN           NaN             NaN            NaN   \n",
      "3         29.7         NaN           NaN             NaN            NaN   \n",
      "4          NaN         NaN           NaN             NaN            NaN   \n",
      "\n",
      "   designated_hitter  pinch_hitter  pinch_runner  birthDate   Age  \n",
      "0                NaN           NaN           NaN 1985-12-17  28.8  \n",
      "1               40.6          40.6           NaN 1974-03-11  40.6  \n",
      "2               27.7          27.7           NaN 1987-01-29  27.7  \n",
      "3                NaN          29.7           NaN 1984-11-13  29.7  \n",
      "4                NaN           NaN           NaN 1982-12-08  31.5  \n"
     ]
    }
   ],
   "source": [
    "# converting all G_ columns to respective ages or NaNs, if value >= 1 then age else NaN,\n",
    "# to facilitate box plot generation\n",
    "\n",
    "def conv_bool(val):\n",
    "    if val >= 1:\n",
    "        return 1\n",
    "    else:\n",
    "        return np.NaN\n",
    "\n",
    "for i in range(3,15):\n",
    "    curr_age_pos.iloc[:,i] = curr_age_pos.iloc[:,i].apply(conv_bool)\n",
    "    curr_age_pos.iloc[:,i] = curr_age_pos.iloc[:,i]*curr_age_pos['Age']\n",
    "    \n",
    "curr_age_pos = curr_age_pos.rename(columns = {\n",
    "    'G_p': 'Pitcher',\n",
    "    'G_c': 'Catcher',\n",
    "    'G_1b': '1st_baseman',\n",
    "    'G_2b': '2nd_baseman',\n",
    "    'G_3b': '3rd_baseman',\n",
    "    'G_ss': 'Short_stop',\n",
    "    'G_lf': 'left_fielder',\n",
    "    'G_rf': 'right_fielder',\n",
    "    'G_cf': 'center_fielder',\n",
    "    'G_dh': 'designated_hitter',\n",
    "    'G_ph': 'pinch_hitter',\n",
    "    'G_pr': 'pinch_runner'\n",
    "})\n",
    "\n",
    "print(curr_age_pos.head())"
   ]
  },
  {
   "cell_type": "code",
   "execution_count": 45,
   "metadata": {
    "collapsed": false,
    "scrolled": false
   },
   "outputs": [
    {
     "data": {
      "image/png": "[encoded data removed]",
      "text/plain": [
       "<matplotlib.figure.Figure at 0x11133b190>"
      ]
     },
     "metadata": {},
     "output_type": "display_data"
    }
   ],
   "source": [
    "# Creating box plots of the ages by position\n",
    "\n",
    "fig, ax = plt.subplots(figsize = (15,8))\n",
    "ax.set_ylim(20,40)\n",
    "plt.yticks(np.arange(20,41,1))\n",
    "curr_age_pos.iloc[:,3:15].boxplot()\n",
    "plt.title(\"Age distribution of players by position\")\n",
    "plt.xlabel(\"Player position\")\n",
    "plt.ylabel(\"Age in years\")\n",
    "plt.show()"
   ]
  },
  {
   "cell_type": "markdown",
   "metadata": {},
   "source": [
    "Obeservation and tenative inference: \n",
    "\n",
    "Looking at the median and spread, the youngest players play at the short stop position. Closely behind short stops are pitchers, who are the second youngest. \n",
    "\n",
    "It's a much closer contest for older players. First basemen probably win, with left fielders, designated hitters and right fielders tied up for the second spot."
   ]
  },
  {
   "cell_type": "markdown",
   "metadata": {},
   "source": [
    "### Question 2: Do right hand pitchers perform better than left hand pitchers - higher strikeouts per 9 innings, lower walks and hits per 9 innings, higher win-loss ratio?"
   ]
  },
  {
   "cell_type": "code",
   "execution_count": 46,
   "metadata": {
    "collapsed": false
   },
   "outputs": [
    {
     "data": {
      "text/html": [
       "<div>\n",
       "<table border=\"1\" class=\"dataframe\">\n",
       "  <thead>\n",
       "    <tr style=\"text-align: right;\">\n",
       "      <th></th>\n",
       "      <th>W</th>\n",
       "      <th>L</th>\n",
       "      <th>IPouts</th>\n",
       "      <th>H</th>\n",
       "      <th>BB</th>\n",
       "      <th>SO</th>\n",
       "    </tr>\n",
       "    <tr>\n",
       "      <th>throws</th>\n",
       "      <th></th>\n",
       "      <th></th>\n",
       "      <th></th>\n",
       "      <th></th>\n",
       "      <th></th>\n",
       "      <th></th>\n",
       "    </tr>\n",
       "  </thead>\n",
       "  <tbody>\n",
       "    <tr>\n",
       "      <th>L</th>\n",
       "      <td>54139</td>\n",
       "      <td>53861</td>\n",
       "      <td>2917877</td>\n",
       "      <td>973099</td>\n",
       "      <td>356403</td>\n",
       "      <td>554291</td>\n",
       "    </tr>\n",
       "    <tr>\n",
       "      <th>R</th>\n",
       "      <td>152056</td>\n",
       "      <td>151903</td>\n",
       "      <td>8172204</td>\n",
       "      <td>2735890</td>\n",
       "      <td>952850</td>\n",
       "      <td>1452543</td>\n",
       "    </tr>\n",
       "  </tbody>\n",
       "</table>\n",
       "</div>"
      ],
      "text/plain": [
       "             W       L   IPouts        H      BB       SO\n",
       "throws                                                   \n",
       "L        54139   53861  2917877   973099  356403   554291\n",
       "R       152056  151903  8172204  2735890  952850  1452543"
      ]
     },
     "execution_count": 46,
     "metadata": {},
     "output_type": "execute_result"
    }
   ],
   "source": [
    "# grouping pitch_hand_perf df by throws column\n",
    "pitch_hand_perf_group = pitch_hand_perf.groupby('throws').sum()\n",
    "pitch_hand_perf_group"
   ]
  },
  {
   "cell_type": "code",
   "execution_count": 47,
   "metadata": {
    "collapsed": false
   },
   "outputs": [
    {
     "data": {
      "text/html": [
       "<div>\n",
       "<table border=\"1\" class=\"dataframe\">\n",
       "  <thead>\n",
       "    <tr style=\"text-align: right;\">\n",
       "      <th></th>\n",
       "      <th>W</th>\n",
       "      <th>L</th>\n",
       "      <th>IPouts</th>\n",
       "      <th>H</th>\n",
       "      <th>BB</th>\n",
       "      <th>SOs per 9INs</th>\n",
       "    </tr>\n",
       "    <tr>\n",
       "      <th>throws</th>\n",
       "      <th></th>\n",
       "      <th></th>\n",
       "      <th></th>\n",
       "      <th></th>\n",
       "      <th></th>\n",
       "      <th></th>\n",
       "    </tr>\n",
       "  </thead>\n",
       "  <tbody>\n",
       "    <tr>\n",
       "      <th>L</th>\n",
       "      <td>54139</td>\n",
       "      <td>53861</td>\n",
       "      <td>2917877</td>\n",
       "      <td>973099</td>\n",
       "      <td>356403</td>\n",
       "      <td>5.129023</td>\n",
       "    </tr>\n",
       "    <tr>\n",
       "      <th>R</th>\n",
       "      <td>152056</td>\n",
       "      <td>151903</td>\n",
       "      <td>8172204</td>\n",
       "      <td>2735890</td>\n",
       "      <td>952850</td>\n",
       "      <td>4.799031</td>\n",
       "    </tr>\n",
       "  </tbody>\n",
       "</table>\n",
       "</div>"
      ],
      "text/plain": [
       "             W       L   IPouts        H      BB  SOs per 9INs\n",
       "throws                                                        \n",
       "L        54139   53861  2917877   973099  356403      5.129023\n",
       "R       152056  151903  8172204  2735890  952850      4.799031"
      ]
     },
     "execution_count": 47,
     "metadata": {},
     "output_type": "execute_result"
    }
   ],
   "source": [
    "# computing strikeouts per 9 innings\n",
    "pitch_hand_perf_group['SOs per 9INs'] = pitch_hand_perf_group['SO']/ (pitch_hand_perf_group['IPouts']/ 3/ 9)\n",
    "pitch_hand_perf_group = pitch_hand_perf_group.drop('SO', axis='columns')\n",
    "pitch_hand_perf_group"
   ]
  },
  {
   "cell_type": "code",
   "execution_count": 48,
   "metadata": {
    "collapsed": false
   },
   "outputs": [
    {
     "data": {
      "text/html": [
       "<div>\n",
       "<table border=\"1\" class=\"dataframe\">\n",
       "  <thead>\n",
       "    <tr style=\"text-align: right;\">\n",
       "      <th></th>\n",
       "      <th>W</th>\n",
       "      <th>L</th>\n",
       "      <th>SOs per 9INs</th>\n",
       "      <th>Hs + Ws per 9INs</th>\n",
       "    </tr>\n",
       "    <tr>\n",
       "      <th>throws</th>\n",
       "      <th></th>\n",
       "      <th></th>\n",
       "      <th></th>\n",
       "      <th></th>\n",
       "    </tr>\n",
       "  </thead>\n",
       "  <tbody>\n",
       "    <tr>\n",
       "      <th>L</th>\n",
       "      <td>54139</td>\n",
       "      <td>53861</td>\n",
       "      <td>5.129023</td>\n",
       "      <td>12.302285</td>\n",
       "    </tr>\n",
       "    <tr>\n",
       "      <th>R</th>\n",
       "      <td>152056</td>\n",
       "      <td>151903</td>\n",
       "      <td>4.799031</td>\n",
       "      <td>12.187163</td>\n",
       "    </tr>\n",
       "  </tbody>\n",
       "</table>\n",
       "</div>"
      ],
      "text/plain": [
       "             W       L  SOs per 9INs  Hs + Ws per 9INs\n",
       "throws                                                \n",
       "L        54139   53861      5.129023         12.302285\n",
       "R       152056  151903      4.799031         12.187163"
      ]
     },
     "execution_count": 48,
     "metadata": {},
     "output_type": "execute_result"
    }
   ],
   "source": [
    "# computing hits plus walks per 9 innings\n",
    "pitch_hand_perf_group['Hs + Ws per 9INs'] = (pitch_hand_perf_group['H'] + pitch_hand_perf_group['BB']) \\\n",
    "/ (pitch_hand_perf_group['IPouts']/ 3/ 9)\n",
    "pitch_hand_perf_group = pitch_hand_perf_group.drop(['IPouts','H','BB'], axis='columns')\n",
    "pitch_hand_perf_group"
   ]
  },
  {
   "cell_type": "code",
   "execution_count": 49,
   "metadata": {
    "collapsed": false
   },
   "outputs": [
    {
     "data": {
      "text/html": [
       "<div>\n",
       "<table border=\"1\" class=\"dataframe\">\n",
       "  <thead>\n",
       "    <tr style=\"text-align: right;\">\n",
       "      <th></th>\n",
       "      <th>SOs per 9INs</th>\n",
       "      <th>Hs + Ws per 9INs</th>\n",
       "      <th>W-L Ratio</th>\n",
       "    </tr>\n",
       "    <tr>\n",
       "      <th>throws</th>\n",
       "      <th></th>\n",
       "      <th></th>\n",
       "      <th></th>\n",
       "    </tr>\n",
       "  </thead>\n",
       "  <tbody>\n",
       "    <tr>\n",
       "      <th>L</th>\n",
       "      <td>5.129023</td>\n",
       "      <td>12.302285</td>\n",
       "      <td>1.005161</td>\n",
       "    </tr>\n",
       "    <tr>\n",
       "      <th>R</th>\n",
       "      <td>4.799031</td>\n",
       "      <td>12.187163</td>\n",
       "      <td>1.001007</td>\n",
       "    </tr>\n",
       "  </tbody>\n",
       "</table>\n",
       "</div>"
      ],
      "text/plain": [
       "        SOs per 9INs  Hs + Ws per 9INs  W-L Ratio\n",
       "throws                                           \n",
       "L           5.129023         12.302285   1.005161\n",
       "R           4.799031         12.187163   1.001007"
      ]
     },
     "execution_count": 49,
     "metadata": {},
     "output_type": "execute_result"
    }
   ],
   "source": [
    "# computing W-L ratio\n",
    "pitch_hand_perf_group['W-L Ratio'] = pitch_hand_perf_group['W']/ pitch_hand_perf_group['L']\n",
    "pitch_hand_perf_group = pitch_hand_perf_group.drop(['W','L'], axis='columns')\n",
    "pitch_hand_perf_group"
   ]
  },
  {
   "cell_type": "markdown",
   "metadata": {},
   "source": [
    "Observation and tentative inference:\n",
    "\n",
    "Based on the above table, it seems like left hand pitchers perform marginally better than right hand pitchers, especially on the strikeouts per 9 innings metric."
   ]
  },
  {
   "cell_type": "markdown",
   "metadata": {},
   "source": [
    "### Question 3: How many total homeruns were made every season? Who were the top five players with the most number of homeruns in any given season?"
   ]
  },
  {
   "cell_type": "code",
   "execution_count": 50,
   "metadata": {
    "collapsed": false
   },
   "outputs": [
    {
     "data": {
      "text/html": [
       "<div>\n",
       "<table border=\"1\" class=\"dataframe\">\n",
       "  <thead>\n",
       "    <tr style=\"text-align: right;\">\n",
       "      <th></th>\n",
       "      <th>yearID</th>\n",
       "      <th>HR</th>\n",
       "    </tr>\n",
       "  </thead>\n",
       "  <tbody>\n",
       "    <tr>\n",
       "      <th>0</th>\n",
       "      <td>1871</td>\n",
       "      <td>47</td>\n",
       "    </tr>\n",
       "    <tr>\n",
       "      <th>1</th>\n",
       "      <td>1872</td>\n",
       "      <td>35</td>\n",
       "    </tr>\n",
       "    <tr>\n",
       "      <th>2</th>\n",
       "      <td>1873</td>\n",
       "      <td>46</td>\n",
       "    </tr>\n",
       "    <tr>\n",
       "      <th>3</th>\n",
       "      <td>1874</td>\n",
       "      <td>40</td>\n",
       "    </tr>\n",
       "    <tr>\n",
       "      <th>4</th>\n",
       "      <td>1875</td>\n",
       "      <td>40</td>\n",
       "    </tr>\n",
       "  </tbody>\n",
       "</table>\n",
       "</div>"
      ],
      "text/plain": [
       "   yearID  HR\n",
       "0    1871  47\n",
       "1    1872  35\n",
       "2    1873  46\n",
       "3    1874  40\n",
       "4    1875  40"
      ]
     },
     "execution_count": 50,
     "metadata": {},
     "output_type": "execute_result"
    }
   ],
   "source": [
    "# computing total homeruns made in every season\n",
    "homeruns_year = homeruns.groupby('yearID', as_index=False).sum()\n",
    "homeruns_year.head()"
   ]
  },
  {
   "cell_type": "code",
   "execution_count": 51,
   "metadata": {
    "collapsed": false
   },
   "outputs": [
    {
     "data": {
      "text/plain": [
       "count     144.000000\n",
       "mean     1935.854167\n",
       "std      1641.336246\n",
       "min        23.000000\n",
       "25%       458.750000\n",
       "50%      1437.500000\n",
       "75%      3090.750000\n",
       "max      5693.000000\n",
       "Name: HR, dtype: float64"
      ]
     },
     "execution_count": 51,
     "metadata": {},
     "output_type": "execute_result"
    }
   ],
   "source": [
    "# computing the descriptive statistics for Home Runs made per season\n",
    "homeruns_year['HR'].describe()"
   ]
  },
  {
   "cell_type": "markdown",
   "metadata": {},
   "source": [
    "Observations and tentative inference:\n",
    "\n",
    "The mean of home runs made per season is ~1936 and the median is ~1438. The home runs per season range from 23 to 5693."
   ]
  },
  {
   "cell_type": "code",
   "execution_count": 52,
   "metadata": {
    "collapsed": false
   },
   "outputs": [
    {
     "data": {
      "image/png": "[encoded data removed]",
      "text/plain": [
       "<matplotlib.figure.Figure at 0x10f57d990>"
      ]
     },
     "metadata": {},
     "output_type": "display_data"
    }
   ],
   "source": [
    "# visualizing the home runs made in every season as a time series plot\n",
    "homeruns_year.plot('yearID','HR')\n",
    "plt.title(\"Time series plot of Home Runs in a season\")\n",
    "plt.xlabel(\"Year/ Season\")\n",
    "plt.ylabel(\"No. of Home Runs\")\n",
    "plt.show()"
   ]
  },
  {
   "cell_type": "markdown",
   "metadata": {},
   "source": [
    "Observations and tentative inference:\n",
    "\n",
    "Clearly the no. of homeruns per season has been on an upward trend since the inception of MLB, with a noticeable peak at the end of the 20th century."
   ]
  },
  {
   "cell_type": "code",
   "execution_count": 53,
   "metadata": {
    "collapsed": false
   },
   "outputs": [
    {
     "data": {
      "text/html": [
       "<div>\n",
       "<table border=\"1\" class=\"dataframe\">\n",
       "  <thead>\n",
       "    <tr style=\"text-align: right;\">\n",
       "      <th></th>\n",
       "      <th>yearID</th>\n",
       "      <th>playerID</th>\n",
       "      <th>nameFirst</th>\n",
       "      <th>nameLast</th>\n",
       "      <th>nameGiven</th>\n",
       "      <th>HR</th>\n",
       "    </tr>\n",
       "  </thead>\n",
       "  <tbody>\n",
       "    <tr>\n",
       "      <th>70380</th>\n",
       "      <td>2001</td>\n",
       "      <td>bondsba01</td>\n",
       "      <td>Barry</td>\n",
       "      <td>Bonds</td>\n",
       "      <td>Barry Lamar</td>\n",
       "      <td>73</td>\n",
       "    </tr>\n",
       "    <tr>\n",
       "      <th>67464</th>\n",
       "      <td>1998</td>\n",
       "      <td>mcgwima01</td>\n",
       "      <td>Mark</td>\n",
       "      <td>McGwire</td>\n",
       "      <td>Mark David</td>\n",
       "      <td>70</td>\n",
       "    </tr>\n",
       "    <tr>\n",
       "      <th>67751</th>\n",
       "      <td>1998</td>\n",
       "      <td>sosasa01</td>\n",
       "      <td>Sammy</td>\n",
       "      <td>Sosa</td>\n",
       "      <td>Samuel Peralta</td>\n",
       "      <td>66</td>\n",
       "    </tr>\n",
       "    <tr>\n",
       "      <th>68582</th>\n",
       "      <td>1999</td>\n",
       "      <td>mcgwima01</td>\n",
       "      <td>Mark</td>\n",
       "      <td>McGwire</td>\n",
       "      <td>Mark David</td>\n",
       "      <td>65</td>\n",
       "    </tr>\n",
       "    <tr>\n",
       "      <th>71309</th>\n",
       "      <td>2001</td>\n",
       "      <td>sosasa01</td>\n",
       "      <td>Sammy</td>\n",
       "      <td>Sosa</td>\n",
       "      <td>Samuel Peralta</td>\n",
       "      <td>64</td>\n",
       "    </tr>\n",
       "  </tbody>\n",
       "</table>\n",
       "</div>"
      ],
      "text/plain": [
       "       yearID   playerID nameFirst nameLast       nameGiven  HR\n",
       "70380    2001  bondsba01     Barry    Bonds     Barry Lamar  73\n",
       "67464    1998  mcgwima01      Mark  McGwire      Mark David  70\n",
       "67751    1998   sosasa01     Sammy     Sosa  Samuel Peralta  66\n",
       "68582    1999  mcgwima01      Mark  McGwire      Mark David  65\n",
       "71309    2001   sosasa01     Sammy     Sosa  Samuel Peralta  64"
      ]
     },
     "execution_count": 53,
     "metadata": {},
     "output_type": "execute_result"
    }
   ],
   "source": [
    "# top five players with the highest no. of homeruns made in any given season\n",
    "homeruns_player = homeruns.groupby(['yearID','playerID','nameFirst','nameLast','nameGiven'], as_index=False).sum()\n",
    "homeruns_player = homeruns_player.sort_values('HR', ascending=False)\n",
    "homeruns_player.head()"
   ]
  },
  {
   "cell_type": "markdown",
   "metadata": {},
   "source": [
    "### Question 4: List the top ten currently active franchises with the highest average win percentage per season, or the most number of world series wins? Is there a correlation between a franchises' average win percentage and the number of world series they've won?"
   ]
  },
  {
   "cell_type": "code",
   "execution_count": 54,
   "metadata": {
    "collapsed": false
   },
   "outputs": [
    {
     "data": {
      "text/html": [
       "<div>\n",
       "<table border=\"1\" class=\"dataframe\">\n",
       "  <thead>\n",
       "    <tr style=\"text-align: right;\">\n",
       "      <th></th>\n",
       "      <th>franchName</th>\n",
       "      <th>Win_Perc</th>\n",
       "    </tr>\n",
       "  </thead>\n",
       "  <tbody>\n",
       "    <tr>\n",
       "      <th>0</th>\n",
       "      <td>New York Yankees</td>\n",
       "      <td>56.42</td>\n",
       "    </tr>\n",
       "    <tr>\n",
       "      <th>1</th>\n",
       "      <td>San Francisco Giants</td>\n",
       "      <td>53.40</td>\n",
       "    </tr>\n",
       "    <tr>\n",
       "      <th>2</th>\n",
       "      <td>Los Angeles Dodgers</td>\n",
       "      <td>52.06</td>\n",
       "    </tr>\n",
       "    <tr>\n",
       "      <th>3</th>\n",
       "      <td>St. Louis Cardinals</td>\n",
       "      <td>51.47</td>\n",
       "    </tr>\n",
       "    <tr>\n",
       "      <th>4</th>\n",
       "      <td>Boston Red Sox</td>\n",
       "      <td>51.43</td>\n",
       "    </tr>\n",
       "    <tr>\n",
       "      <th>5</th>\n",
       "      <td>Chicago Cubs</td>\n",
       "      <td>51.12</td>\n",
       "    </tr>\n",
       "    <tr>\n",
       "      <th>6</th>\n",
       "      <td>Cleveland Indians</td>\n",
       "      <td>50.75</td>\n",
       "    </tr>\n",
       "    <tr>\n",
       "      <th>7</th>\n",
       "      <td>Cincinnati Reds</td>\n",
       "      <td>50.66</td>\n",
       "    </tr>\n",
       "    <tr>\n",
       "      <th>8</th>\n",
       "      <td>Detroit Tigers</td>\n",
       "      <td>50.54</td>\n",
       "    </tr>\n",
       "    <tr>\n",
       "      <th>9</th>\n",
       "      <td>Chicago White Sox</td>\n",
       "      <td>50.20</td>\n",
       "    </tr>\n",
       "  </tbody>\n",
       "</table>\n",
       "</div>"
      ],
      "text/plain": [
       "             franchName  Win_Perc\n",
       "0      New York Yankees     56.42\n",
       "1  San Francisco Giants     53.40\n",
       "2   Los Angeles Dodgers     52.06\n",
       "3   St. Louis Cardinals     51.47\n",
       "4        Boston Red Sox     51.43\n",
       "5          Chicago Cubs     51.12\n",
       "6     Cleveland Indians     50.75\n",
       "7       Cincinnati Reds     50.66\n",
       "8        Detroit Tigers     50.54\n",
       "9     Chicago White Sox     50.20"
      ]
     },
     "execution_count": 54,
     "metadata": {},
     "output_type": "execute_result"
    }
   ],
   "source": [
    "# computing average win percentage per season and identifying 10 franchises with highest win percentage\n",
    "teams_franchises_group1 = teams_franchises.groupby(['yearID','franchName'], as_index=False).sum()\n",
    "teams_franchises_group1['Win_Perc'] = (teams_franchises_group1['W']/ teams_franchises_group1['G'] * 100).round(2)\n",
    "teams_franchises_group1 = teams_franchises_group1.drop(['G','W'], axis='columns')\n",
    "teams_franchises_group1 = teams_franchises_group1.groupby('franchName',as_index=False) \\\n",
    "['Win_Perc'].mean().round(2)\n",
    "teams_franchises_group1 = teams_franchises_group1.sort_values('Win_Perc', ascending=False).reset_index(drop=True)\n",
    "teams_franchises_group1.head(10)"
   ]
  },
  {
   "cell_type": "code",
   "execution_count": 55,
   "metadata": {
    "collapsed": false
   },
   "outputs": [
    {
     "data": {
      "text/html": [
       "<div>\n",
       "<table border=\"1\" class=\"dataframe\">\n",
       "  <thead>\n",
       "    <tr style=\"text-align: right;\">\n",
       "      <th></th>\n",
       "      <th>franchName</th>\n",
       "      <th>WSWin</th>\n",
       "    </tr>\n",
       "  </thead>\n",
       "  <tbody>\n",
       "    <tr>\n",
       "      <th>0</th>\n",
       "      <td>New York Yankees</td>\n",
       "      <td>27</td>\n",
       "    </tr>\n",
       "    <tr>\n",
       "      <th>1</th>\n",
       "      <td>St. Louis Cardinals</td>\n",
       "      <td>12</td>\n",
       "    </tr>\n",
       "    <tr>\n",
       "      <th>2</th>\n",
       "      <td>San Francisco Giants</td>\n",
       "      <td>10</td>\n",
       "    </tr>\n",
       "    <tr>\n",
       "      <th>3</th>\n",
       "      <td>Oakland Athletics</td>\n",
       "      <td>9</td>\n",
       "    </tr>\n",
       "    <tr>\n",
       "      <th>4</th>\n",
       "      <td>Boston Red Sox</td>\n",
       "      <td>8</td>\n",
       "    </tr>\n",
       "    <tr>\n",
       "      <th>5</th>\n",
       "      <td>Los Angeles Dodgers</td>\n",
       "      <td>6</td>\n",
       "    </tr>\n",
       "    <tr>\n",
       "      <th>6</th>\n",
       "      <td>Pittsburgh Pirates</td>\n",
       "      <td>5</td>\n",
       "    </tr>\n",
       "    <tr>\n",
       "      <th>7</th>\n",
       "      <td>Cincinnati Reds</td>\n",
       "      <td>5</td>\n",
       "    </tr>\n",
       "    <tr>\n",
       "      <th>8</th>\n",
       "      <td>Detroit Tigers</td>\n",
       "      <td>4</td>\n",
       "    </tr>\n",
       "    <tr>\n",
       "      <th>9</th>\n",
       "      <td>Baltimore Orioles</td>\n",
       "      <td>3</td>\n",
       "    </tr>\n",
       "  </tbody>\n",
       "</table>\n",
       "</div>"
      ],
      "text/plain": [
       "             franchName  WSWin\n",
       "0      New York Yankees     27\n",
       "1   St. Louis Cardinals     12\n",
       "2  San Francisco Giants     10\n",
       "3     Oakland Athletics      9\n",
       "4        Boston Red Sox      8\n",
       "5   Los Angeles Dodgers      6\n",
       "6    Pittsburgh Pirates      5\n",
       "7       Cincinnati Reds      5\n",
       "8        Detroit Tigers      4\n",
       "9     Baltimore Orioles      3"
      ]
     },
     "execution_count": 55,
     "metadata": {},
     "output_type": "execute_result"
    }
   ],
   "source": [
    "# World series wins by franchises, 10 franchises with the highest wins\n",
    "teams_franchises_group2 = teams_franchises[teams_franchises['WSWin']=='Y']. \\\n",
    "groupby('franchName', as_index=False)['WSWin'].count()\n",
    "teams_franchises_group2 = teams_franchises_group2.sort_values('WSWin',ascending=False).reset_index(drop=True)\n",
    "teams_franchises_group2.head(10)"
   ]
  },
  {
   "cell_type": "code",
   "execution_count": 56,
   "metadata": {
    "collapsed": false
   },
   "outputs": [
    {
     "data": {
      "text/html": [
       "<div>\n",
       "<table border=\"1\" class=\"dataframe\">\n",
       "  <thead>\n",
       "    <tr style=\"text-align: right;\">\n",
       "      <th></th>\n",
       "      <th>franchName</th>\n",
       "      <th>Win_Perc</th>\n",
       "      <th>WSWin</th>\n",
       "    </tr>\n",
       "  </thead>\n",
       "  <tbody>\n",
       "    <tr>\n",
       "      <th>0</th>\n",
       "      <td>New York Yankees</td>\n",
       "      <td>56.42</td>\n",
       "      <td>27.0</td>\n",
       "    </tr>\n",
       "    <tr>\n",
       "      <th>1</th>\n",
       "      <td>San Francisco Giants</td>\n",
       "      <td>53.40</td>\n",
       "      <td>10.0</td>\n",
       "    </tr>\n",
       "    <tr>\n",
       "      <th>2</th>\n",
       "      <td>Los Angeles Dodgers</td>\n",
       "      <td>52.06</td>\n",
       "      <td>6.0</td>\n",
       "    </tr>\n",
       "    <tr>\n",
       "      <th>3</th>\n",
       "      <td>St. Louis Cardinals</td>\n",
       "      <td>51.47</td>\n",
       "      <td>12.0</td>\n",
       "    </tr>\n",
       "    <tr>\n",
       "      <th>4</th>\n",
       "      <td>Boston Red Sox</td>\n",
       "      <td>51.43</td>\n",
       "      <td>8.0</td>\n",
       "    </tr>\n",
       "  </tbody>\n",
       "</table>\n",
       "</div>"
      ],
      "text/plain": [
       "             franchName  Win_Perc  WSWin\n",
       "0      New York Yankees     56.42   27.0\n",
       "1  San Francisco Giants     53.40   10.0\n",
       "2   Los Angeles Dodgers     52.06    6.0\n",
       "3   St. Louis Cardinals     51.47   12.0\n",
       "4        Boston Red Sox     51.43    8.0"
      ]
     },
     "execution_count": 56,
     "metadata": {},
     "output_type": "execute_result"
    }
   ],
   "source": [
    "# dataframe to plot the relationship between win percentages and world series wins\n",
    "teams_franchises_group3 = teams_franchises_group1.merge(teams_franchises_group2,on='franchName',how='left')\n",
    "teams_franchises_group3['WSWin'] = teams_franchises_group3['WSWin'].fillna(0)\n",
    "teams_franchises_group3.head()"
   ]
  },
  {
   "cell_type": "code",
   "execution_count": 57,
   "metadata": {
    "collapsed": false
   },
   "outputs": [
    {
     "data": {
      "image/png": "[encoded data removed]",
      "text/plain": [
       "<matplotlib.figure.Figure at 0x10f9d23d0>"
      ]
     },
     "metadata": {},
     "output_type": "display_data"
    }
   ],
   "source": [
    "# scatter plot to analyze the correlation between world series wins and win percentages\n",
    "teams_franchises_group3.plot.scatter('WSWin','Win_Perc')\n",
    "plt.title(\"Correlation between Win Percentage & World Series Wins\")\n",
    "plt.xlabel(\"World Series Wins\")\n",
    "plt.ylabel(\"Win Percentage\")\n",
    "plt.show()"
   ]
  },
  {
   "cell_type": "markdown",
   "metadata": {},
   "source": [
    "Observation and tentative inference:\n",
    "\n",
    "There is a weak positive correlation between the no. of world series wins and average win percentage per season."
   ]
  },
  {
   "cell_type": "markdown",
   "metadata": {},
   "source": [
    "### Question 5: What is the correlation between the batting average, on base percentage (OBP), runs batted in (RBI) and homeruns of a batter to his salary? Which of these is more positively correlated?"
   ]
  },
  {
   "cell_type": "code",
   "execution_count": 58,
   "metadata": {
    "collapsed": false
   },
   "outputs": [],
   "source": [
    "# computing On Batting Average\n",
    "batting_salary['BA'] = (batting_salary['H'] / batting_salary['AB'])"
   ]
  },
  {
   "cell_type": "code",
   "execution_count": 59,
   "metadata": {
    "collapsed": false
   },
   "outputs": [],
   "source": [
    "# computing On Base Percentage\n",
    "batting_salary['OBP'] = ((batting_salary['H'] + batting_salary['BB'])/ \\\n",
    "(batting_salary['AB'] + batting_salary['BB'] + batting_salary['HBP'] + batting_salary['SF']))\n",
    "batting_salary.drop(['AB','H','BB','HBP','SF'], axis='columns', inplace=True)"
   ]
  },
  {
   "cell_type": "code",
   "execution_count": 60,
   "metadata": {
    "collapsed": false
   },
   "outputs": [
    {
     "data": {
      "text/html": [
       "<div>\n",
       "<table border=\"1\" class=\"dataframe\">\n",
       "  <thead>\n",
       "    <tr style=\"text-align: right;\">\n",
       "      <th></th>\n",
       "      <th>playerID</th>\n",
       "      <th>RBI</th>\n",
       "      <th>HR</th>\n",
       "      <th>salary</th>\n",
       "      <th>BA</th>\n",
       "      <th>OBP</th>\n",
       "    </tr>\n",
       "  </thead>\n",
       "  <tbody>\n",
       "    <tr>\n",
       "      <th>6</th>\n",
       "      <td>abbotku01</td>\n",
       "      <td>24.200000</td>\n",
       "      <td>6.200000</td>\n",
       "      <td>5.237000e+05</td>\n",
       "      <td>0.251020</td>\n",
       "      <td>0.286629</td>\n",
       "    </tr>\n",
       "    <tr>\n",
       "      <th>11</th>\n",
       "      <td>abnersh01</td>\n",
       "      <td>10.666667</td>\n",
       "      <td>1.500000</td>\n",
       "      <td>1.505833e+05</td>\n",
       "      <td>0.212258</td>\n",
       "      <td>0.246419</td>\n",
       "    </tr>\n",
       "    <tr>\n",
       "      <th>12</th>\n",
       "      <td>abreubo01</td>\n",
       "      <td>74.888889</td>\n",
       "      <td>15.944444</td>\n",
       "      <td>8.165537e+06</td>\n",
       "      <td>0.285430</td>\n",
       "      <td>0.382908</td>\n",
       "    </tr>\n",
       "    <tr>\n",
       "      <th>25</th>\n",
       "      <td>adamste01</td>\n",
       "      <td>0.250000</td>\n",
       "      <td>0.000000</td>\n",
       "      <td>1.369875e+06</td>\n",
       "      <td>0.016410</td>\n",
       "      <td>0.054713</td>\n",
       "    </tr>\n",
       "    <tr>\n",
       "      <th>29</th>\n",
       "      <td>affelje01</td>\n",
       "      <td>0.250000</td>\n",
       "      <td>0.000000</td>\n",
       "      <td>2.789125e+06</td>\n",
       "      <td>0.104167</td>\n",
       "      <td>0.178571</td>\n",
       "    </tr>\n",
       "  </tbody>\n",
       "</table>\n",
       "</div>"
      ],
      "text/plain": [
       "     playerID        RBI         HR        salary        BA       OBP\n",
       "6   abbotku01  24.200000   6.200000  5.237000e+05  0.251020  0.286629\n",
       "11  abnersh01  10.666667   1.500000  1.505833e+05  0.212258  0.246419\n",
       "12  abreubo01  74.888889  15.944444  8.165537e+06  0.285430  0.382908\n",
       "25  adamste01   0.250000   0.000000  1.369875e+06  0.016410  0.054713\n",
       "29  affelje01   0.250000   0.000000  2.789125e+06  0.104167  0.178571"
      ]
     },
     "execution_count": 60,
     "metadata": {},
     "output_type": "execute_result"
    }
   ],
   "source": [
    "# grouping data for analysis, filtering players with 5 or more seasons\n",
    "batting_salary_group1 = batting_salary.groupby('playerID', as_index=False)['yearID'].count()\n",
    "batting_salary_group2 = batting_salary.groupby('playerID', as_index=False).mean().drop('yearID', axis='columns')\n",
    "batting_salary_group2 = batting_salary_group2[batting_salary_group1['yearID'] >= 5]\n",
    "batting_salary_group2.head()"
   ]
  },
  {
   "cell_type": "code",
   "execution_count": 61,
   "metadata": {
    "collapsed": false
   },
   "outputs": [
    {
     "data": {
      "image/png": "[encoded data removed]",
      "text/plain": [
       "<matplotlib.figure.Figure at 0x10eba4a50>"
      ]
     },
     "metadata": {},
     "output_type": "display_data"
    }
   ],
   "source": [
    "# plotting OBP vs salary\n",
    "batting_salary_group2.plot.scatter('BA','salary')\n",
    "plt.title(\"Correlation between Batting Average & Salary\")\n",
    "plt.xlabel(\"Batting Average\")\n",
    "plt.ylabel(\"Salary\")\n",
    "plt.show()"
   ]
  },
  {
   "cell_type": "code",
   "execution_count": 62,
   "metadata": {
    "collapsed": false
   },
   "outputs": [
    {
     "data": {
      "image/png": "[encoded data removed]",
      "text/plain": [
       "<matplotlib.figure.Figure at 0x10ff3a350>"
      ]
     },
     "metadata": {},
     "output_type": "display_data"
    }
   ],
   "source": [
    "# plotting OBP vs salary\n",
    "batting_salary_group2.plot.scatter('OBP','salary')\n",
    "plt.title(\"Correlation between On Base Percentage & Salary\")\n",
    "plt.xlabel(\"On Base Percentage\")\n",
    "plt.ylabel(\"Salary\")\n",
    "plt.show()"
   ]
  },
  {
   "cell_type": "code",
   "execution_count": 63,
   "metadata": {
    "collapsed": false
   },
   "outputs": [
    {
     "data": {
      "image/png": "[encoded data removed]",
      "text/plain": [
       "<matplotlib.figure.Figure at 0x10f1be090>"
      ]
     },
     "metadata": {},
     "output_type": "display_data"
    }
   ],
   "source": [
    "# Plotting RBI vs salary, filtering players with RBI > 5\n",
    "batting_salary_group2[batting_salary_group2['RBI'] >= 5].plot.scatter('RBI','salary')\n",
    "plt.title(\"Correlation between Run Batted In & Salary\")\n",
    "plt.xlabel(\"Run Batted In\")\n",
    "plt.ylabel(\"Salary\")\n",
    "plt.show()"
   ]
  },
  {
   "cell_type": "code",
   "execution_count": 64,
   "metadata": {
    "collapsed": false
   },
   "outputs": [
    {
     "data": {
      "image/png": "[encoded data removed]",
      "text/plain": [
       "<matplotlib.figure.Figure at 0x10f2242d0>"
      ]
     },
     "metadata": {},
     "output_type": "display_data"
    }
   ],
   "source": [
    "# Plotting Home Runs vs Salary, filtering players with HR gre\n",
    "batting_salary_group2[batting_salary_group2['HR'] >= 1].plot.scatter('HR','salary')\n",
    "plt.title(\"Correlation between Home Runs & Salary\")\n",
    "plt.xlabel(\"Home Runs\")\n",
    "plt.ylabel(\"Salary\")\n",
    "plt.show()"
   ]
  },
  {
   "cell_type": "markdown",
   "metadata": {},
   "source": [
    "Obervations and tentative inference:\n",
    "\n",
    "There is a weak positive correlation between RBI/ Home Runs and salary. There is no correlation between BA/OBP and salary."
   ]
  },
  {
   "cell_type": "markdown",
   "metadata": {},
   "source": [
    "## Conclusions/ Tentative Inferences"
   ]
  },
  {
   "cell_type": "markdown",
   "metadata": {},
   "source": [
    "Answering the questions that were posed at the start of the analysis below. Please note that these inferences are tentative based on exploratory data analysis and do not mean causation.\n",
    "\n",
    "* **What is the age distribution of MLB players who played during the 2014 season? Does the age distribution change based on the position they played?**\n",
    "\n",
    "    The mean age is ~28.5 years, whereas the median is a bit lower ~28 years.\n",
    "    \n",
    "    The ages range from ~20.5 to ~43.5 years.\n",
    "    \n",
    "    The age distribution is positively skewed. Majority of the players are 22 to 32 years old.\n",
    "    \n",
    "    The player's age distribution does change based on the position they play.\n",
    "    \n",
    "    The youngest players play at the short stop position. Closely behind short stops are pitchers, who are the second youngest. *However, these are just inferences based on some preliminary descriptive statistics, in order to validate these conclusions we would have to preform hypothesis testing to reject a null hypothesis stating that the mean age of players who play at the short stop position is greater than or equal to the mean ages of other players. Student's t-test might be a good hypothesis test to employ here.*\n",
    "    \n",
    "    First basemen are the oldest, with left fielders, designated hitters and right fielders tied up for the second oldest. *Similar to the comment above, these are preliminary inferences which need to be backed up by hypothesis (t-test, again, is a good choice) to reject a null hypothesis - mean age of first basemen is lower than or equal to the mean ages of the rest of the players*\n",
    "    \n",
    "\n",
    "* **Do right hand pitchers perform better than left hand pitchers - higher strikeouts per 9 innings, lower walks and hits per 9 innings, higher win-loss ratio?**\n",
    "\n",
    "    Left hand pitchers perform marginally better than right hand pitchers, especially on the strikeouts per 9 innings metric. *In order to validate this conclusion, we would need to perform a t-test to reject the null hypothesis which should state that the mean of the metrics stated in the question for left hand pitchers is lower than or equal to the mean of the metric of right hand pitchers*\n",
    "    \n",
    "\n",
    "* **How many total homeruns were made every season? Who were the top five players with the most number of homeruns in any given season?**\n",
    "\n",
    "    The mean of home runs made per season is ~1936 and the median is ~1438. The home runs per season range from 23 to 5693.\n",
    "    \n",
    "    The no. of homeruns per season has been on an upward trend since the inception of MLB, with a noticeable peak at the end of the 20th century.\n",
    "    \n",
    "    Five players with the highest homeruns in a season are:\n",
    "    \n",
    "        1. Barry Bonds - 2001\n",
    "        2. Mark McGwire - 1998\n",
    "        3. Sammy Sossa - 1998\n",
    "        4. Mark McGwire - 1999\n",
    "        5. Sammy Sossa - 2001\n",
    "    \n",
    "\n",
    "* **List the top ten currently active franchises with the highest average win percentage per season, or the most number of world series wins? Is there a correlation between a franchises' average win percentage and the number of world series they've won?**\n",
    "\n",
    "    Ten franchises with the most no. of world series wins are:\n",
    "\n",
    "        1. New York Yankees\n",
    "        2. San Francisco Giants\n",
    "        3. Los Angeles Dodgers\n",
    "        4. St. Louis Cardinals\n",
    "        5. Boston Red Sox\n",
    "        6. Chicago Cubs\n",
    "        7. Cleveland Indians\n",
    "        8. Cincinnati Reds\n",
    "        9. Detroit Tigers\n",
    "        10. Chicago White Sox\n",
    "\n",
    "    Ten franchises with the highest average win percentages per season:\n",
    "\n",
    "        1. New York Yankees\n",
    "        2. St. Louis Cardinals\n",
    "        3. San Francisco Giants\n",
    "        4. Oakland Athletics\n",
    "        5. Boston Red Sox\n",
    "        6. Los Angeles Dodgers\n",
    "        7. Pittsburg Pirates\n",
    "        8. Cincinnati Reds\n",
    "        9. Detroit Tigers\n",
    "        10. Baltimore Orioles\n",
    "    \n",
    "    There is a weak positive correlation between the no. of world series wins and average win percentage per season. *Please do remember that correlation does not mean causation.*\n",
    "    \n",
    "* **What is the correlation between the batting average, on base percentage (OBP), runs batted in (RBI) and homeruns of a batter to his salary? Which of these is more positively correlated?**\n",
    "\n",
    "    There is a weak positive correlation between RBI/ Home Runs and salary. There is no correlation between BA/OBP and salary. *Again, caveat here is that correlation does not mean causation!*"
   ]
  },
  {
   "cell_type": "markdown",
   "metadata": {},
   "source": [
    "## More questions that can be answered from analyzing this dataset"
   ]
  },
  {
   "cell_type": "markdown",
   "metadata": {},
   "source": [
    "1. What is the distribution of career longevity of baseball players? How does it change based on the position they play?\n",
    "\n",
    "2. Is there a particularly high concentration of current players within a range of heights and weights?\n",
    "\n",
    "3. How many shutouts were there every season? Who are the top five players with the most number of shutouts in a season?\n",
    "\n",
    "4. Is there a correlation between a batter's no. of walks and strikeouts? Who has the highest walks-to-strikeout ratio?\n",
    "\n",
    "5. Is there a correlation between on base percentage and the player's order of appearance? Who had the highest on-base percentage?"
   ]
  },
  {
   "cell_type": "markdown",
   "metadata": {},
   "source": [
    "## References"
   ]
  },
  {
   "cell_type": "markdown",
   "metadata": {},
   "source": [
    "https://en.wikipedia.org/wiki/Baseball_statistics"
   ]
  },
  {
   "cell_type": "markdown",
   "metadata": {},
   "source": [
    "https://en.wikipedia.org/wiki/Baseball"
   ]
  },
  {
   "cell_type": "markdown",
   "metadata": {},
   "source": [
    "https://en.wikipedia.org/wiki/Run_batted_in"
   ]
  },
  {
   "cell_type": "markdown",
   "metadata": {},
   "source": [
    "https://en.wikipedia.org/wiki/Win%E2%80%93loss_record_(pitching)"
   ]
  },
  {
   "cell_type": "markdown",
   "metadata": {},
   "source": [
    "https://en.wikipedia.org/wiki/On-base_percentage"
   ]
  }
 ],
 "metadata": {
  "anaconda-cloud": {},
  "kernelspec": {
   "display_name": "Python [conda env:DAND]",
   "language": "python",
   "name": "conda-env-DAND-py"
  },
  "language_info": {
   "codemirror_mode": {
    "name": "ipython",
    "version": 2
   },
   "file_extension": ".py",
   "mimetype": "text/x-python",
   "name": "python",
   "nbconvert_exporter": "python",
   "pygments_lexer": "ipython2",
   "version": "2.7.12"
  }
 },
 "nbformat": 4,
 "nbformat_minor": 2
}
